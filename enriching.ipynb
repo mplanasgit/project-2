{
 "cells": [
  {
   "cell_type": "markdown",
   "id": "7f590f73",
   "metadata": {},
   "source": [
    "**Project-2:** *Gotta fetch 'em all* - Enriching the dataset"
   ]
  },
  {
   "cell_type": "markdown",
   "id": "263321d1",
   "metadata": {},
   "source": [
    "**Libraries**"
   ]
  },
  {
   "cell_type": "code",
   "execution_count": 1,
   "id": "73b7af93",
   "metadata": {},
   "outputs": [],
   "source": [
    "import pandas as pd\n",
    "import requests\n",
    "from bs4 import BeautifulSoup\n",
    "import re\n",
    "from pandas import json_normalize\n",
    "import json\n",
    "import os\n",
    "from dotenv import load_dotenv\n",
    "import time"
   ]
  },
  {
   "cell_type": "markdown",
   "id": "bd33b9cc",
   "metadata": {},
   "source": [
    "# Importing the dataset and defining my goals"
   ]
  },
  {
   "cell_type": "markdown",
   "id": "8eac40b4",
   "metadata": {},
   "source": [
    "The dataset was obtained from the kaggle website:\n",
    "[Pokémon dataset](https://www.kaggle.com/datasets/abcsds/pokemon)"
   ]
  },
  {
   "cell_type": "code",
   "execution_count": 587,
   "id": "f05ff68b",
   "metadata": {},
   "outputs": [
    {
     "data": {
      "text/html": [
       "<div>\n",
       "<style scoped>\n",
       "    .dataframe tbody tr th:only-of-type {\n",
       "        vertical-align: middle;\n",
       "    }\n",
       "\n",
       "    .dataframe tbody tr th {\n",
       "        vertical-align: top;\n",
       "    }\n",
       "\n",
       "    .dataframe thead th {\n",
       "        text-align: right;\n",
       "    }\n",
       "</style>\n",
       "<table border=\"1\" class=\"dataframe\">\n",
       "  <thead>\n",
       "    <tr style=\"text-align: right;\">\n",
       "      <th></th>\n",
       "      <th>Name</th>\n",
       "      <th>Type 1</th>\n",
       "      <th>Type 2</th>\n",
       "      <th>Total</th>\n",
       "      <th>HP</th>\n",
       "      <th>Attack</th>\n",
       "      <th>Defense</th>\n",
       "      <th>Sp. Atk</th>\n",
       "      <th>Sp. Def</th>\n",
       "      <th>Speed</th>\n",
       "      <th>Generation</th>\n",
       "      <th>Legendary</th>\n",
       "    </tr>\n",
       "    <tr>\n",
       "      <th>#</th>\n",
       "      <th></th>\n",
       "      <th></th>\n",
       "      <th></th>\n",
       "      <th></th>\n",
       "      <th></th>\n",
       "      <th></th>\n",
       "      <th></th>\n",
       "      <th></th>\n",
       "      <th></th>\n",
       "      <th></th>\n",
       "      <th></th>\n",
       "      <th></th>\n",
       "    </tr>\n",
       "  </thead>\n",
       "  <tbody>\n",
       "    <tr>\n",
       "      <th>1</th>\n",
       "      <td>Bulbasaur</td>\n",
       "      <td>Grass</td>\n",
       "      <td>Poison</td>\n",
       "      <td>318</td>\n",
       "      <td>45</td>\n",
       "      <td>49</td>\n",
       "      <td>49</td>\n",
       "      <td>65</td>\n",
       "      <td>65</td>\n",
       "      <td>45</td>\n",
       "      <td>1</td>\n",
       "      <td>False</td>\n",
       "    </tr>\n",
       "    <tr>\n",
       "      <th>2</th>\n",
       "      <td>Ivysaur</td>\n",
       "      <td>Grass</td>\n",
       "      <td>Poison</td>\n",
       "      <td>405</td>\n",
       "      <td>60</td>\n",
       "      <td>62</td>\n",
       "      <td>63</td>\n",
       "      <td>80</td>\n",
       "      <td>80</td>\n",
       "      <td>60</td>\n",
       "      <td>1</td>\n",
       "      <td>False</td>\n",
       "    </tr>\n",
       "    <tr>\n",
       "      <th>3</th>\n",
       "      <td>Venusaur</td>\n",
       "      <td>Grass</td>\n",
       "      <td>Poison</td>\n",
       "      <td>525</td>\n",
       "      <td>80</td>\n",
       "      <td>82</td>\n",
       "      <td>83</td>\n",
       "      <td>100</td>\n",
       "      <td>100</td>\n",
       "      <td>80</td>\n",
       "      <td>1</td>\n",
       "      <td>False</td>\n",
       "    </tr>\n",
       "    <tr>\n",
       "      <th>3</th>\n",
       "      <td>VenusaurMega Venusaur</td>\n",
       "      <td>Grass</td>\n",
       "      <td>Poison</td>\n",
       "      <td>625</td>\n",
       "      <td>80</td>\n",
       "      <td>100</td>\n",
       "      <td>123</td>\n",
       "      <td>122</td>\n",
       "      <td>120</td>\n",
       "      <td>80</td>\n",
       "      <td>1</td>\n",
       "      <td>False</td>\n",
       "    </tr>\n",
       "    <tr>\n",
       "      <th>4</th>\n",
       "      <td>Charmander</td>\n",
       "      <td>Fire</td>\n",
       "      <td>NaN</td>\n",
       "      <td>309</td>\n",
       "      <td>39</td>\n",
       "      <td>52</td>\n",
       "      <td>43</td>\n",
       "      <td>60</td>\n",
       "      <td>50</td>\n",
       "      <td>65</td>\n",
       "      <td>1</td>\n",
       "      <td>False</td>\n",
       "    </tr>\n",
       "  </tbody>\n",
       "</table>\n",
       "</div>"
      ],
      "text/plain": [
       "                    Name Type 1  Type 2  Total  HP  Attack  Defense  Sp. Atk  \\\n",
       "#                                                                              \n",
       "1              Bulbasaur  Grass  Poison    318  45      49       49       65   \n",
       "2                Ivysaur  Grass  Poison    405  60      62       63       80   \n",
       "3               Venusaur  Grass  Poison    525  80      82       83      100   \n",
       "3  VenusaurMega Venusaur  Grass  Poison    625  80     100      123      122   \n",
       "4             Charmander   Fire     NaN    309  39      52       43       60   \n",
       "\n",
       "   Sp. Def  Speed  Generation  Legendary  \n",
       "#                                         \n",
       "1       65     45           1      False  \n",
       "2       80     60           1      False  \n",
       "3      100     80           1      False  \n",
       "3      120     80           1      False  \n",
       "4       50     65           1      False  "
      ]
     },
     "execution_count": 587,
     "metadata": {},
     "output_type": "execute_result"
    }
   ],
   "source": [
    "# Importing and checking how the dataset looks like\n",
    "\n",
    "pokemon = pd.read_csv(\"./data/pokemon.csv\")\n",
    "pokemon = pokemon.set_index('#')\n",
    "pokemon.head() "
   ]
  },
  {
   "cell_type": "code",
   "execution_count": 266,
   "id": "56e64777",
   "metadata": {},
   "outputs": [
    {
     "data": {
      "text/html": [
       "<div>\n",
       "<style scoped>\n",
       "    .dataframe tbody tr th:only-of-type {\n",
       "        vertical-align: middle;\n",
       "    }\n",
       "\n",
       "    .dataframe tbody tr th {\n",
       "        vertical-align: top;\n",
       "    }\n",
       "\n",
       "    .dataframe thead th {\n",
       "        text-align: right;\n",
       "    }\n",
       "</style>\n",
       "<table border=\"1\" class=\"dataframe\">\n",
       "  <thead>\n",
       "    <tr style=\"text-align: right;\">\n",
       "      <th></th>\n",
       "      <th>Name</th>\n",
       "      <th>Type 1</th>\n",
       "      <th>Type 2</th>\n",
       "      <th>Total</th>\n",
       "      <th>HP</th>\n",
       "      <th>Attack</th>\n",
       "      <th>Defense</th>\n",
       "      <th>Sp. Atk</th>\n",
       "      <th>Sp. Def</th>\n",
       "      <th>Speed</th>\n",
       "      <th>Generation</th>\n",
       "      <th>Legendary</th>\n",
       "    </tr>\n",
       "    <tr>\n",
       "      <th>#</th>\n",
       "      <th></th>\n",
       "      <th></th>\n",
       "      <th></th>\n",
       "      <th></th>\n",
       "      <th></th>\n",
       "      <th></th>\n",
       "      <th></th>\n",
       "      <th></th>\n",
       "      <th></th>\n",
       "      <th></th>\n",
       "      <th></th>\n",
       "      <th></th>\n",
       "    </tr>\n",
       "  </thead>\n",
       "  <tbody>\n",
       "    <tr>\n",
       "      <th>719</th>\n",
       "      <td>Diancie</td>\n",
       "      <td>Rock</td>\n",
       "      <td>Fairy</td>\n",
       "      <td>600</td>\n",
       "      <td>50</td>\n",
       "      <td>100</td>\n",
       "      <td>150</td>\n",
       "      <td>100</td>\n",
       "      <td>150</td>\n",
       "      <td>50</td>\n",
       "      <td>6</td>\n",
       "      <td>True</td>\n",
       "    </tr>\n",
       "    <tr>\n",
       "      <th>719</th>\n",
       "      <td>DiancieMega Diancie</td>\n",
       "      <td>Rock</td>\n",
       "      <td>Fairy</td>\n",
       "      <td>700</td>\n",
       "      <td>50</td>\n",
       "      <td>160</td>\n",
       "      <td>110</td>\n",
       "      <td>160</td>\n",
       "      <td>110</td>\n",
       "      <td>110</td>\n",
       "      <td>6</td>\n",
       "      <td>True</td>\n",
       "    </tr>\n",
       "    <tr>\n",
       "      <th>720</th>\n",
       "      <td>HoopaHoopa Confined</td>\n",
       "      <td>Psychic</td>\n",
       "      <td>Ghost</td>\n",
       "      <td>600</td>\n",
       "      <td>80</td>\n",
       "      <td>110</td>\n",
       "      <td>60</td>\n",
       "      <td>150</td>\n",
       "      <td>130</td>\n",
       "      <td>70</td>\n",
       "      <td>6</td>\n",
       "      <td>True</td>\n",
       "    </tr>\n",
       "    <tr>\n",
       "      <th>720</th>\n",
       "      <td>HoopaHoopa Unbound</td>\n",
       "      <td>Psychic</td>\n",
       "      <td>Dark</td>\n",
       "      <td>680</td>\n",
       "      <td>80</td>\n",
       "      <td>160</td>\n",
       "      <td>60</td>\n",
       "      <td>170</td>\n",
       "      <td>130</td>\n",
       "      <td>80</td>\n",
       "      <td>6</td>\n",
       "      <td>True</td>\n",
       "    </tr>\n",
       "    <tr>\n",
       "      <th>721</th>\n",
       "      <td>Volcanion</td>\n",
       "      <td>Fire</td>\n",
       "      <td>Water</td>\n",
       "      <td>600</td>\n",
       "      <td>80</td>\n",
       "      <td>110</td>\n",
       "      <td>120</td>\n",
       "      <td>130</td>\n",
       "      <td>90</td>\n",
       "      <td>70</td>\n",
       "      <td>6</td>\n",
       "      <td>True</td>\n",
       "    </tr>\n",
       "  </tbody>\n",
       "</table>\n",
       "</div>"
      ],
      "text/plain": [
       "                    Name   Type 1 Type 2  Total  HP  Attack  Defense  Sp. Atk  \\\n",
       "#                                                                               \n",
       "719              Diancie     Rock  Fairy    600  50     100      150      100   \n",
       "719  DiancieMega Diancie     Rock  Fairy    700  50     160      110      160   \n",
       "720  HoopaHoopa Confined  Psychic  Ghost    600  80     110       60      150   \n",
       "720   HoopaHoopa Unbound  Psychic   Dark    680  80     160       60      170   \n",
       "721            Volcanion     Fire  Water    600  80     110      120      130   \n",
       "\n",
       "     Sp. Def  Speed  Generation  Legendary  \n",
       "#                                           \n",
       "719      150     50           6       True  \n",
       "719      110    110           6       True  \n",
       "720      130     70           6       True  \n",
       "720      130     80           6       True  \n",
       "721       90     70           6       True  "
      ]
     },
     "execution_count": 266,
     "metadata": {},
     "output_type": "execute_result"
    }
   ],
   "source": [
    "pokemon.tail()"
   ]
  },
  {
   "cell_type": "markdown",
   "id": "c7c3f516",
   "metadata": {},
   "source": [
    "- As of today, the Pokémon games consist of 8 generations, adding up a total of **#905** creatures. Thus, this dataset from kaggle is outdated. In addition, it is missing some categories that would make for an interesting investigation. \n",
    "- Luckily enough, there's an **API** called [PokéAPI](https://pokeapi.co/) that contains huge amounts of information about the pokémon world. I will make use of this API to first add the missing pokémon to my dataset with their respective categories."
   ]
  },
  {
   "cell_type": "markdown",
   "id": "a13c46b9",
   "metadata": {},
   "source": [
    "## My goal"
   ]
  },
  {
   "cell_type": "code",
   "execution_count": 174,
   "id": "aa44822b",
   "metadata": {},
   "outputs": [
    {
     "data": {
      "text/html": [
       "<div>\n",
       "<style scoped>\n",
       "    .dataframe tbody tr th:only-of-type {\n",
       "        vertical-align: middle;\n",
       "    }\n",
       "\n",
       "    .dataframe tbody tr th {\n",
       "        vertical-align: top;\n",
       "    }\n",
       "\n",
       "    .dataframe thead th {\n",
       "        text-align: right;\n",
       "    }\n",
       "</style>\n",
       "<table border=\"1\" class=\"dataframe\">\n",
       "  <thead>\n",
       "    <tr style=\"text-align: right;\">\n",
       "      <th></th>\n",
       "      <th>Name</th>\n",
       "      <th>Height</th>\n",
       "      <th>Weight</th>\n",
       "      <th>Type 1</th>\n",
       "      <th>Total</th>\n",
       "      <th>HP</th>\n",
       "      <th>Attack</th>\n",
       "      <th>Defense</th>\n",
       "      <th>Sp. Atk</th>\n",
       "      <th>Sp. Def</th>\n",
       "      <th>Speed</th>\n",
       "      <th>Habitat</th>\n",
       "      <th>Generation</th>\n",
       "      <th>Legendary</th>\n",
       "    </tr>\n",
       "  </thead>\n",
       "  <tbody>\n",
       "    <tr>\n",
       "      <th>0</th>\n",
       "      <td>Pokémon_1</td>\n",
       "      <td>x</td>\n",
       "      <td>x</td>\n",
       "      <td>Type_a</td>\n",
       "      <td>x</td>\n",
       "      <td>x</td>\n",
       "      <td>x</td>\n",
       "      <td>x</td>\n",
       "      <td>x</td>\n",
       "      <td>x</td>\n",
       "      <td>x</td>\n",
       "      <td>x</td>\n",
       "      <td>1</td>\n",
       "      <td>True</td>\n",
       "    </tr>\n",
       "    <tr>\n",
       "      <th>1</th>\n",
       "      <td>Pokémon_2</td>\n",
       "      <td>y</td>\n",
       "      <td>y</td>\n",
       "      <td>Type_b</td>\n",
       "      <td>y</td>\n",
       "      <td>y</td>\n",
       "      <td>y</td>\n",
       "      <td>y</td>\n",
       "      <td>y</td>\n",
       "      <td>y</td>\n",
       "      <td>y</td>\n",
       "      <td>y</td>\n",
       "      <td>2</td>\n",
       "      <td>False</td>\n",
       "    </tr>\n",
       "    <tr>\n",
       "      <th>2</th>\n",
       "      <td>Pokémon_3</td>\n",
       "      <td>z</td>\n",
       "      <td>z</td>\n",
       "      <td>Type_c</td>\n",
       "      <td>z</td>\n",
       "      <td>z</td>\n",
       "      <td>z</td>\n",
       "      <td>z</td>\n",
       "      <td>z</td>\n",
       "      <td>z</td>\n",
       "      <td>z</td>\n",
       "      <td>z</td>\n",
       "      <td>3</td>\n",
       "      <td>True</td>\n",
       "    </tr>\n",
       "  </tbody>\n",
       "</table>\n",
       "</div>"
      ],
      "text/plain": [
       "        Name Height Weight  Type 1 Total HP Attack Defense Sp. Atk Sp. Def  \\\n",
       "0  Pokémon_1      x      x  Type_a     x  x      x       x       x       x   \n",
       "1  Pokémon_2      y      y  Type_b     y  y      y       y       y       y   \n",
       "2  Pokémon_3      z      z  Type_c     z  z      z       z       z       z   \n",
       "\n",
       "  Speed Habitat Generation Legendary  \n",
       "0     x       x          1      True  \n",
       "1     y       y          2     False  \n",
       "2     z       z          3      True  "
      ]
     },
     "execution_count": 174,
     "metadata": {},
     "output_type": "execute_result"
    }
   ],
   "source": [
    "# To start off, this would be my goal dataset:\n",
    "\n",
    "goal = {'Name':['Pokémon_1', 'Pokémon_2', 'Pokémon_3'],\n",
    "            'Height':['x', 'y', 'z'],\n",
    "            'Weight':['x', 'y', 'z'],\n",
    "            'Type 1':['Type_a', 'Type_b', 'Type_c'],\n",
    "            'Type 1':['Type_a', 'Type_b', 'Type_c'],\n",
    "            'Total':['x', 'y', 'z'],\n",
    "            'HP':['x', 'y', 'z'],\n",
    "            'Attack':['x', 'y', 'z'],\n",
    "            'Defense':['x', 'y', 'z'],\n",
    "            'Sp. Atk':['x', 'y', 'z'],\n",
    "            'Sp. Def':['x', 'y', 'z'],\n",
    "            'Speed':['x', 'y', 'z'],\n",
    "            'Habitat':['x', 'y', 'z'],\n",
    "            'Generation':['1', '2', '3'],\n",
    "            'Legendary':['True', 'False', 'True'],\n",
    "}\n",
    "  \n",
    "# Create DataFrame\n",
    "goal_df = pd.DataFrame(goal)\n",
    "goal_df"
   ]
  },
  {
   "cell_type": "markdown",
   "id": "3ae941e1",
   "metadata": {},
   "source": [
    "# Enriching the dataset with an API - fetching the missing pokemon"
   ]
  },
  {
   "cell_type": "markdown",
   "id": "af1dcfa2",
   "metadata": {},
   "source": [
    "- According to the docs, the PokéAPI does not require authentication and is free and open to use.\n",
    "- They also removed the rate limit but still encourage the users to limit the number of their requests.\n",
    "- For the moment I will limit my requests to the missing pokémon of my dataset, since I would also like to request other information from the API."
   ]
  },
  {
   "cell_type": "code",
   "execution_count": null,
   "id": "72d02992",
   "metadata": {},
   "outputs": [],
   "source": [
    "# Link for requesting pokémon:\n",
    "# url_api = https://pokeapi.co/api/v2/pokemon/{id or name}/"
   ]
  },
  {
   "cell_type": "markdown",
   "id": "397d5384",
   "metadata": {},
   "source": [
    "## Trying one request"
   ]
  },
  {
   "cell_type": "markdown",
   "id": "8fb9c164",
   "metadata": {},
   "source": [
    "I will first try with a single request to see if I get what I need."
   ]
  },
  {
   "cell_type": "code",
   "execution_count": 57,
   "id": "3a879f2f",
   "metadata": {},
   "outputs": [
    {
     "data": {
      "text/plain": [
       "<Response [200]>"
      ]
     },
     "execution_count": 57,
     "metadata": {},
     "output_type": "execute_result"
    }
   ],
   "source": [
    "response_api = requests.get(f\"https://pokeapi.co/api/v2/pokemon/{810}/\")\n",
    "response_api # Request accepted"
   ]
  },
  {
   "cell_type": "code",
   "execution_count": 58,
   "id": "be5fbbec",
   "metadata": {},
   "outputs": [
    {
     "data": {
      "text/html": [
       "<div>\n",
       "<style scoped>\n",
       "    .dataframe tbody tr th:only-of-type {\n",
       "        vertical-align: middle;\n",
       "    }\n",
       "\n",
       "    .dataframe tbody tr th {\n",
       "        vertical-align: top;\n",
       "    }\n",
       "\n",
       "    .dataframe thead th {\n",
       "        text-align: right;\n",
       "    }\n",
       "</style>\n",
       "<table border=\"1\" class=\"dataframe\">\n",
       "  <thead>\n",
       "    <tr style=\"text-align: right;\">\n",
       "      <th></th>\n",
       "      <th>abilities</th>\n",
       "      <th>base_experience</th>\n",
       "      <th>forms</th>\n",
       "      <th>game_indices</th>\n",
       "      <th>height</th>\n",
       "      <th>held_items</th>\n",
       "      <th>id</th>\n",
       "      <th>is_default</th>\n",
       "      <th>location_area_encounters</th>\n",
       "      <th>moves</th>\n",
       "      <th>...</th>\n",
       "      <th>sprites.versions.generation-vi.x-y.front_shiny</th>\n",
       "      <th>sprites.versions.generation-vi.x-y.front_shiny_female</th>\n",
       "      <th>sprites.versions.generation-vii.icons.front_default</th>\n",
       "      <th>sprites.versions.generation-vii.icons.front_female</th>\n",
       "      <th>sprites.versions.generation-vii.ultra-sun-ultra-moon.front_default</th>\n",
       "      <th>sprites.versions.generation-vii.ultra-sun-ultra-moon.front_female</th>\n",
       "      <th>sprites.versions.generation-vii.ultra-sun-ultra-moon.front_shiny</th>\n",
       "      <th>sprites.versions.generation-vii.ultra-sun-ultra-moon.front_shiny_female</th>\n",
       "      <th>sprites.versions.generation-viii.icons.front_default</th>\n",
       "      <th>sprites.versions.generation-viii.icons.front_female</th>\n",
       "    </tr>\n",
       "  </thead>\n",
       "  <tbody>\n",
       "    <tr>\n",
       "      <th>0</th>\n",
       "      <td>[{'ability': {'name': 'overgrow', 'url': 'http...</td>\n",
       "      <td>62</td>\n",
       "      <td>[{'name': 'grookey', 'url': 'https://pokeapi.c...</td>\n",
       "      <td>[]</td>\n",
       "      <td>3</td>\n",
       "      <td>[]</td>\n",
       "      <td>810</td>\n",
       "      <td>True</td>\n",
       "      <td>https://pokeapi.co/api/v2/pokemon/810/encounters</td>\n",
       "      <td>[{'move': {'name': 'mega-punch', 'url': 'https...</td>\n",
       "      <td>...</td>\n",
       "      <td>None</td>\n",
       "      <td>None</td>\n",
       "      <td>None</td>\n",
       "      <td>None</td>\n",
       "      <td>None</td>\n",
       "      <td>None</td>\n",
       "      <td>None</td>\n",
       "      <td>None</td>\n",
       "      <td>https://raw.githubusercontent.com/PokeAPI/spri...</td>\n",
       "      <td>None</td>\n",
       "    </tr>\n",
       "  </tbody>\n",
       "</table>\n",
       "<p>1 rows × 129 columns</p>\n",
       "</div>"
      ],
      "text/plain": [
       "                                           abilities  base_experience  \\\n",
       "0  [{'ability': {'name': 'overgrow', 'url': 'http...               62   \n",
       "\n",
       "                                               forms game_indices  height  \\\n",
       "0  [{'name': 'grookey', 'url': 'https://pokeapi.c...           []       3   \n",
       "\n",
       "  held_items   id  is_default  \\\n",
       "0         []  810        True   \n",
       "\n",
       "                           location_area_encounters  \\\n",
       "0  https://pokeapi.co/api/v2/pokemon/810/encounters   \n",
       "\n",
       "                                               moves  ...  \\\n",
       "0  [{'move': {'name': 'mega-punch', 'url': 'https...  ...   \n",
       "\n",
       "  sprites.versions.generation-vi.x-y.front_shiny  \\\n",
       "0                                           None   \n",
       "\n",
       "   sprites.versions.generation-vi.x-y.front_shiny_female  \\\n",
       "0                                               None       \n",
       "\n",
       "  sprites.versions.generation-vii.icons.front_default  \\\n",
       "0                                               None    \n",
       "\n",
       "  sprites.versions.generation-vii.icons.front_female  \\\n",
       "0                                               None   \n",
       "\n",
       "  sprites.versions.generation-vii.ultra-sun-ultra-moon.front_default  \\\n",
       "0                                               None                   \n",
       "\n",
       "   sprites.versions.generation-vii.ultra-sun-ultra-moon.front_female  \\\n",
       "0                                               None                   \n",
       "\n",
       "  sprites.versions.generation-vii.ultra-sun-ultra-moon.front_shiny  \\\n",
       "0                                               None                 \n",
       "\n",
       "  sprites.versions.generation-vii.ultra-sun-ultra-moon.front_shiny_female  \\\n",
       "0                                               None                        \n",
       "\n",
       "  sprites.versions.generation-viii.icons.front_default  \\\n",
       "0  https://raw.githubusercontent.com/PokeAPI/spri...     \n",
       "\n",
       "  sprites.versions.generation-viii.icons.front_female  \n",
       "0                                               None   \n",
       "\n",
       "[1 rows x 129 columns]"
      ]
     },
     "execution_count": 58,
     "metadata": {},
     "output_type": "execute_result"
    }
   ],
   "source": [
    "# Looking at the content of the request. We got the first pokémon of the 8th gen:\n",
    "# response_api.content\n",
    "# response_api.json()\n",
    "\n",
    "first_poke = json_normalize(response_api.json())\n",
    "first_poke # We got lots of info: 129 columns"
   ]
  },
  {
   "cell_type": "markdown",
   "id": "fd6013c9",
   "metadata": {},
   "source": [
    "### Cleaning and accessing flatened information"
   ]
  },
  {
   "cell_type": "code",
   "execution_count": 60,
   "id": "a908da69",
   "metadata": {},
   "outputs": [
    {
     "data": {
      "text/plain": [
       "(1, 10)"
      ]
     },
     "execution_count": 60,
     "metadata": {},
     "output_type": "execute_result"
    }
   ],
   "source": [
    "# Dropping sprites columns with regex\n",
    "# Dropping other unnecessary columns\n",
    "\n",
    "first_poke = first_poke[first_poke.columns.drop(list(first_poke.filter(regex='sprites.*')))]\n",
    "first_poke = first_poke.drop(labels=['game_indices', 'held_items', 'is_default', 'past_types', 'species.name', 'species.url', 'order', 'forms'], axis=1)\n",
    "first_poke.shape"
   ]
  },
  {
   "cell_type": "code",
   "execution_count": 62,
   "id": "7c7a3846",
   "metadata": {},
   "outputs": [
    {
     "data": {
      "text/html": [
       "<div>\n",
       "<style scoped>\n",
       "    .dataframe tbody tr th:only-of-type {\n",
       "        vertical-align: middle;\n",
       "    }\n",
       "\n",
       "    .dataframe tbody tr th {\n",
       "        vertical-align: top;\n",
       "    }\n",
       "\n",
       "    .dataframe thead th {\n",
       "        text-align: right;\n",
       "    }\n",
       "</style>\n",
       "<table border=\"1\" class=\"dataframe\">\n",
       "  <thead>\n",
       "    <tr style=\"text-align: right;\">\n",
       "      <th></th>\n",
       "      <th>abilities</th>\n",
       "      <th>base_experience</th>\n",
       "      <th>height</th>\n",
       "      <th>id</th>\n",
       "      <th>location_area_encounters</th>\n",
       "      <th>moves</th>\n",
       "      <th>name</th>\n",
       "      <th>stats</th>\n",
       "      <th>types</th>\n",
       "      <th>weight</th>\n",
       "    </tr>\n",
       "  </thead>\n",
       "  <tbody>\n",
       "    <tr>\n",
       "      <th>0</th>\n",
       "      <td>[{'ability': {'name': 'overgrow', 'url': 'http...</td>\n",
       "      <td>62</td>\n",
       "      <td>3</td>\n",
       "      <td>810</td>\n",
       "      <td>https://pokeapi.co/api/v2/pokemon/810/encounters</td>\n",
       "      <td>[{'move': {'name': 'mega-punch', 'url': 'https...</td>\n",
       "      <td>grookey</td>\n",
       "      <td>[{'base_stat': 50, 'effort': 0, 'stat': {'name...</td>\n",
       "      <td>[{'slot': 1, 'type': {'name': 'grass', 'url': ...</td>\n",
       "      <td>50</td>\n",
       "    </tr>\n",
       "  </tbody>\n",
       "</table>\n",
       "</div>"
      ],
      "text/plain": [
       "                                           abilities  base_experience  height  \\\n",
       "0  [{'ability': {'name': 'overgrow', 'url': 'http...               62       3   \n",
       "\n",
       "    id                          location_area_encounters  \\\n",
       "0  810  https://pokeapi.co/api/v2/pokemon/810/encounters   \n",
       "\n",
       "                                               moves     name  \\\n",
       "0  [{'move': {'name': 'mega-punch', 'url': 'https...  grookey   \n",
       "\n",
       "                                               stats  \\\n",
       "0  [{'base_stat': 50, 'effort': 0, 'stat': {'name...   \n",
       "\n",
       "                                               types  weight  \n",
       "0  [{'slot': 1, 'type': {'name': 'grass', 'url': ...      50  "
      ]
     },
     "execution_count": 62,
     "metadata": {},
     "output_type": "execute_result"
    }
   ],
   "source": [
    "first_poke\n",
    "\n",
    "# Will need to extract the 'stats' and types' from the respective columns"
   ]
  },
  {
   "cell_type": "markdown",
   "id": "b5ecf00b",
   "metadata": {},
   "source": [
    "**Accessing stats**"
   ]
  },
  {
   "cell_type": "code",
   "execution_count": 75,
   "id": "8f69fbe1",
   "metadata": {},
   "outputs": [],
   "source": [
    "# first_poke['stats'][0]"
   ]
  },
  {
   "cell_type": "code",
   "execution_count": 81,
   "id": "ad708790",
   "metadata": {},
   "outputs": [
    {
     "data": {
      "text/plain": [
       "65"
      ]
     },
     "execution_count": 81,
     "metadata": {},
     "output_type": "execute_result"
    }
   ],
   "source": [
    "first_poke['stats'][0][0]['base_stat'] # value of the stat HP -> in a new column 'HP'\n",
    "first_poke['stats'][0][1]['base_stat'] # value of the stat attack -> in new column 'Attack'\n",
    "first_poke['stats'][0][2]['base_stat'] # value of the stat defense -> in new column 'Defense'\n",
    "first_poke['stats'][0][3]['base_stat'] # value of the stat special-attack -> in new column 'Sp. Atk'\n",
    "first_poke['stats'][0][4]['base_stat'] # value of the stat special-defense -> in new column 'Sp. Def'\n",
    "first_poke['stats'][0][5]['base_stat'] # value of the stat speed -> in new column 'Speed'"
   ]
  },
  {
   "cell_type": "markdown",
   "id": "4518958c",
   "metadata": {},
   "source": [
    "**Accessing types**"
   ]
  },
  {
   "cell_type": "code",
   "execution_count": 79,
   "id": "6479e911",
   "metadata": {},
   "outputs": [],
   "source": [
    "# first_poke['types'][0]"
   ]
  },
  {
   "cell_type": "code",
   "execution_count": 47,
   "id": "ae8fd0f6",
   "metadata": {},
   "outputs": [
    {
     "data": {
      "text/plain": [
       "'grass'"
      ]
     },
     "execution_count": 47,
     "metadata": {},
     "output_type": "execute_result"
    }
   ],
   "source": [
    "first_poke['types'][0][0]['type']['name'] # If it has only 1 type -> in new column 'Type 1'\n",
    "# first_poke['types'][0][1]['type']['name'] # If it had a second type -> in new column 'Type 2'"
   ]
  },
  {
   "cell_type": "markdown",
   "id": "9730b9cb",
   "metadata": {},
   "source": [
    "## Looping for many requests to get the missing pokemon"
   ]
  },
  {
   "cell_type": "markdown",
   "id": "f33d2436",
   "metadata": {},
   "source": [
    "Let's fetch all the missing pokemon:"
   ]
  },
  {
   "cell_type": "code",
   "execution_count": 33,
   "id": "d9729c73",
   "metadata": {},
   "outputs": [],
   "source": [
    "def fetchMissing(a, b):\n",
    "    '''This functions receives two pokemon id numbers as integers ('a' and 'b'),\n",
    "    and returns a dataframe containing the specified pokemon from the ids 'a' to 'b'.\n",
    "    '''\n",
    "    missing_pokes = []\n",
    "    for i in range(a,b+1):\n",
    "        time.sleep(1)\n",
    "        print(f\"Fetching pokemon with id: {i}\")\n",
    "        response_api = requests.get(f\"https://pokeapi.co/api/v2/pokemon/{i}/\").json()\n",
    "        missing_pokes.append(response_api)\n",
    "    \n",
    "    return json_normalize(missing_pokes)"
   ]
  },
  {
   "cell_type": "code",
   "execution_count": 38,
   "id": "79f5cc0c",
   "metadata": {},
   "outputs": [],
   "source": [
    "# missing_all = fetchMissing(722,905)"
   ]
  },
  {
   "cell_type": "code",
   "execution_count": 264,
   "id": "d5700f71",
   "metadata": {},
   "outputs": [],
   "source": [
    "# missing_all.sample()"
   ]
  },
  {
   "cell_type": "code",
   "execution_count": 37,
   "id": "f4f3e72d",
   "metadata": {},
   "outputs": [],
   "source": [
    "# Exporting new dataset of missing pokemon\n",
    "missing_all.to_csv('./data/pokemon_missing.csv', index = False)"
   ]
  },
  {
   "cell_type": "markdown",
   "id": "77ff1e37",
   "metadata": {},
   "source": [
    "### Debugging"
   ]
  },
  {
   "cell_type": "markdown",
   "id": "f7d17b33",
   "metadata": {},
   "source": [
    "**fetchMissing function**"
   ]
  },
  {
   "cell_type": "code",
   "execution_count": 16,
   "id": "74ed77e5",
   "metadata": {},
   "outputs": [],
   "source": [
    "# When I first tried the fetchMissing function, when reaching pokemon 902 it returned an error message:\n",
    "# JSONDecodeError: Expecting value: line 1 column 1 (char 0)\n",
    "# Tried defining a new fetchMissing function but ended up returning a dataframe with no info in it.\n",
    "# Then tried adding a time.sleep(1) to the original function and it worked just fine."
   ]
  },
  {
   "cell_type": "code",
   "execution_count": 98,
   "id": "ca02c7e1",
   "metadata": {},
   "outputs": [],
   "source": [
    "# def fetchMissing(a, b):\n",
    "#     '''This functions receives two pokemon id numbers as integers ('a' and 'b'),\n",
    "#     and returns a dataframe containing the specified pokemon from the ids 'a' to 'b'.\n",
    "#     '''\n",
    "#     missing_pokes = []\n",
    "#     for i in range(a,b+1):\n",
    "#         response_api = requests.get(f\"https://pokeapi.co/api/v2/pokemon/{i}/\")\n",
    "#         try:\n",
    "#             response_api.json()\n",
    "#             missing_pokes.append(response_api)\n",
    "#         except JSONDecodeError:\n",
    "#             print(f\"Encountered a JSONDecodeError for pokemon id {i}\")\n",
    "               \n",
    "#     return json_normalize(missing_pokes)"
   ]
  },
  {
   "cell_type": "markdown",
   "id": "a14ae86c",
   "metadata": {},
   "source": [
    "### Extracting flatened information"
   ]
  },
  {
   "cell_type": "code",
   "execution_count": 481,
   "id": "6df25c5c",
   "metadata": {},
   "outputs": [],
   "source": [
    "# Importing dataset to work on\n",
    "missing_pokes = pd.read_csv(\"./data/pokemon_missing.csv\")\n",
    "# missing_pokes"
   ]
  },
  {
   "cell_type": "markdown",
   "id": "084665a4",
   "metadata": {},
   "source": [
    "**Extracting stats**"
   ]
  },
  {
   "cell_type": "code",
   "execution_count": 482,
   "id": "23e6e1e3",
   "metadata": {},
   "outputs": [],
   "source": [
    "def extractStats(df):\n",
    "    '''This function receives a dataframe and extracts the HP, Attack, Defense, Sp. Atk, Sp. Def, and Speed from 'stats'.\n",
    "    It returns a df with the extracted values of each stat for each pokemon in new columns.\n",
    "    '''\n",
    "    HP = []\n",
    "    Attack = []\n",
    "    Defense = []\n",
    "    Sp_Atk = []\n",
    "    Sp_Def = []\n",
    "    Speed = []\n",
    "    \n",
    "    for i in range(len(df)):\n",
    "        HP.append(int(\"\".join([x for x in missing_pokes.iloc[i]['stats'].split(\",\")[0] if x.isdigit()])))\n",
    "        Attack.append(int(\"\".join([x for x in missing_pokes.iloc[i]['stats'].split(\",\")[4] if x.isdigit()])))\n",
    "        Defense.append(int(\"\".join([x for x in missing_pokes.iloc[i]['stats'].split(\",\")[8] if x.isdigit()])))\n",
    "        Sp_Atk.append(int(\"\".join([x for x in missing_pokes.iloc[i]['stats'].split(\",\")[12] if x.isdigit()])))\n",
    "        Sp_Def.append(int(\"\".join([x for x in missing_pokes.iloc[i]['stats'].split(\",\")[16] if x.isdigit()])))\n",
    "        Speed.append(int(\"\".join([x for x in missing_pokes.iloc[i]['stats'].split(\",\")[20] if x.isdigit()])))\n",
    "    \n",
    "    df['HP'] = HP\n",
    "    df['Attack'] = Attack\n",
    "    df['Defense'] = Defense\n",
    "    df['Sp. Atk'] = Sp_Atk\n",
    "    df['Sp. Def'] = Sp_Def\n",
    "    df['Speed'] = Speed\n",
    "    \n",
    "    return df"
   ]
  },
  {
   "cell_type": "code",
   "execution_count": 483,
   "id": "f18d6608",
   "metadata": {},
   "outputs": [],
   "source": [
    "missing_pokes = extractStats(missing_pokes)"
   ]
  },
  {
   "cell_type": "markdown",
   "id": "a0487491",
   "metadata": {},
   "source": [
    "## Cleaning and adding new columns"
   ]
  },
  {
   "cell_type": "markdown",
   "id": "78db73fc",
   "metadata": {},
   "source": [
    "**Cleaning columns**"
   ]
  },
  {
   "cell_type": "code",
   "execution_count": 484,
   "id": "2d14b6a4",
   "metadata": {},
   "outputs": [],
   "source": [
    "def cleanColumns(df):\n",
    "    '''This functions receives a dataframe and drops unwanted columns from the dataframe.\n",
    "    '''\n",
    "    df = df.drop(labels=list(df.filter(regex='sprites.*')), axis=1)\n",
    "    df = df.drop(labels=['game_indices', \n",
    "                         'held_items', \n",
    "                         'is_default', \n",
    "                         'past_types', \n",
    "                         'species.name', \n",
    "                         'species.url', \n",
    "                         'order', \n",
    "                         'forms', \n",
    "                         'abilities', \n",
    "                         'base_experience', \n",
    "                         'location_area_encounters', \n",
    "                         'moves',\n",
    "                         'stats', \n",
    "                         'types'], axis=1)\n",
    "    df.columns = df.columns.str.title()\n",
    "    \n",
    "    return df"
   ]
  },
  {
   "cell_type": "code",
   "execution_count": 485,
   "id": "de5a13af",
   "metadata": {},
   "outputs": [],
   "source": [
    "missing_pokes = cleanColumns(missing_pokes)"
   ]
  },
  {
   "cell_type": "markdown",
   "id": "b37df492",
   "metadata": {},
   "source": [
    "**Transforming Height and Weight to 'm' and 'kg, respectively**"
   ]
  },
  {
   "cell_type": "code",
   "execution_count": 486,
   "id": "bf86c89d",
   "metadata": {},
   "outputs": [],
   "source": [
    "def transformMetrics(df):\n",
    "    '''This function receives a dataframe and transforms heights and weights to meters and kilograms, respectively.\n",
    "    '''\n",
    "    df['Height'] = df['Height'].apply(lambda x: x / 10)\n",
    "    df['Weight'] = df['Weight'].apply(lambda x: x / 10)\n",
    "    return df"
   ]
  },
  {
   "cell_type": "code",
   "execution_count": 487,
   "id": "23ea22f6",
   "metadata": {},
   "outputs": [],
   "source": [
    "missing_pokes = transformMetrics(missing_pokes)"
   ]
  },
  {
   "cell_type": "markdown",
   "id": "904ca1c5",
   "metadata": {},
   "source": [
    "**Adding Total score column**"
   ]
  },
  {
   "cell_type": "code",
   "execution_count": 488,
   "id": "7ba69913",
   "metadata": {},
   "outputs": [],
   "source": [
    "def calculateTotal(df):\n",
    "    '''This function receives a dataframe and calculates the Total score of a pokemon\n",
    "    based on the sum of its stats (Hp, Attack, Defense, Sp. Atk, Sp. Def, Speed).\n",
    "    It returns the dataframe with the Total column.\n",
    "    '''\n",
    "    df['Total'] = df['Hp'] + df['Attack'] + df['Defense'] + df['Sp. Atk'] + df['Sp. Def'] + df['Speed']\n",
    "    return df"
   ]
  },
  {
   "cell_type": "code",
   "execution_count": 489,
   "id": "a3a78782",
   "metadata": {},
   "outputs": [],
   "source": [
    "missing_pokes = calculateTotal(missing_pokes)"
   ]
  },
  {
   "cell_type": "markdown",
   "id": "b95ec172",
   "metadata": {},
   "source": [
    "**Adding Generation column using the ID number**"
   ]
  },
  {
   "cell_type": "code",
   "execution_count": 490,
   "id": "2d511297",
   "metadata": {},
   "outputs": [],
   "source": [
    "def setGeneration(df):\n",
    "    '''This function receives a dataframe and returns the generation to which the pokemon belongs based on its ID.\n",
    "    '''\n",
    "    generation_7 = [n for n in range(722,810)]\n",
    "    generation_8 = [n for n in range(810,905)]\n",
    "    \n",
    "    df['Generation'] = df['Id'].apply(lambda x: 7 if x in generation_7 else 8)\n",
    "    \n",
    "    return df"
   ]
  },
  {
   "cell_type": "code",
   "execution_count": 491,
   "id": "af61b4a2",
   "metadata": {},
   "outputs": [],
   "source": [
    "missing_pokes = setGeneration(missing_pokes)"
   ]
  },
  {
   "cell_type": "markdown",
   "id": "8d82cf6e",
   "metadata": {},
   "source": [
    "**Adding Legendary Column using ID number**"
   ]
  },
  {
   "cell_type": "code",
   "execution_count": 492,
   "id": "e1c13fa6",
   "metadata": {},
   "outputs": [],
   "source": [
    "def setLegendary(df):\n",
    "    '''This function receives a dataframe and returns the legendary status (True/False) of a pokemon based on its ID.\n",
    "    '''\n",
    "    gen_7_legendaries = [772,773,785,786,787,788,789,790,791,792,793,800] \n",
    "    gen_8_legendaries = [888,889,890,891,892,894,895,896,897,898,905]\n",
    "    legendaries = gen_7_legendaries + gen_8_legendaries\n",
    "    \n",
    "    df['Legendary'] = df['Id'].apply(lambda x: True if x in legendaries else False)\n",
    "    \n",
    "    return df"
   ]
  },
  {
   "cell_type": "code",
   "execution_count": 493,
   "id": "fa3b2002",
   "metadata": {},
   "outputs": [],
   "source": [
    "missing_pokes = setLegendary(missing_pokes)"
   ]
  },
  {
   "cell_type": "markdown",
   "id": "4a71cdb2",
   "metadata": {},
   "source": [
    "**Cleaning names**"
   ]
  },
  {
   "cell_type": "code",
   "execution_count": 494,
   "id": "dc3510bd",
   "metadata": {},
   "outputs": [],
   "source": [
    "names_before = missing_pokes['Name'].to_list()"
   ]
  },
  {
   "cell_type": "code",
   "execution_count": 495,
   "id": "05ee25cd",
   "metadata": {},
   "outputs": [],
   "source": [
    "def cleanNames(df):\n",
    "    '''This function receives a dataframe and cleans the Name column.\n",
    "    '''\n",
    "    for i in df['Name']:\n",
    "        if \"-\" in i:\n",
    "            df['Name'] = df['Name'].str.replace(i, i.split(\"-\")[0])\n",
    "    df['Name'] = df['Name'].str.title()\n",
    "    \n",
    "    return df"
   ]
  },
  {
   "cell_type": "code",
   "execution_count": 496,
   "id": "095d3cd4",
   "metadata": {},
   "outputs": [],
   "source": [
    "missing_pokes = cleanNames(missing_pokes)"
   ]
  },
  {
   "cell_type": "code",
   "execution_count": 497,
   "id": "eedfc3a4",
   "metadata": {},
   "outputs": [],
   "source": [
    "names_after = missing_pokes['Name'].to_list()"
   ]
  },
  {
   "cell_type": "markdown",
   "id": "04c6111a",
   "metadata": {},
   "source": [
    "- ***Checking the new names***"
   ]
  },
  {
   "cell_type": "code",
   "execution_count": 498,
   "id": "d0589850",
   "metadata": {},
   "outputs": [
    {
     "name": "stdout",
     "output_type": "stream",
     "text": [
      "['Oricorio', 'Lycanroc', 'Wishiwashi', 'Type', 'Minior', 'Mimikyu', 'Jangmo', 'Hakamo', 'Kommo', 'Tapu', 'Tapu', 'Tapu', 'Tapu', 'Toxtricity', 'Mr', 'Eiscue', 'Indeedee', 'Morpeko', 'Urshifu', 'Basculegion', 'Enamorus']\n"
     ]
    }
   ],
   "source": [
    "# Checking which names were changed. \n",
    "# Might need to re-name some before Web Scraping, otherwise would not be able to request them (wikidex)\n",
    "\n",
    "different = []\n",
    "for i in names_after:\n",
    "    if i.lower() not in names_before:\n",
    "        different.append(i)\n",
    "print(different)\n",
    "\n",
    "# Names to change:\n",
    "# Type -> Codigo_Cero\n",
    "# Jangmo -> Jangmo-o\n",
    "# Hakamo -> Hakamo-o\n",
    "# Kommo -> Kommo-o\n",
    "# Mr -> Mr._Rime\n",
    "\n",
    "# This I need to access through Id:\n",
    "# Tapu -> Tapu_Koko\n",
    "# Tapu -> Tapu_Lele\n",
    "# Tapu -> Tapu_Bulu\n",
    "# Tapu -> Tapu_Fini"
   ]
  },
  {
   "cell_type": "code",
   "execution_count": 499,
   "id": "e5eaec1b",
   "metadata": {},
   "outputs": [],
   "source": [
    "def nameChange(df):\n",
    "    '''This function receives a dataframe and updates the name of some pokemon.\n",
    "    '''\n",
    "    names_change = {'Type' : 'Codigo_Cero',\n",
    "               'Jangmo' : 'Jangmo-o',\n",
    "               'Hakamo' : 'Hakamo-o',\n",
    "               'Kommo' : 'Kommo-o',\n",
    "               'Mr' : 'Mr._Rime'}\n",
    "    \n",
    "    df['Name'] = df['Name'].replace(names_change)\n",
    "    df.loc[df['Id'] == 785, 'Name'] = \"Tapu_Koko\"\n",
    "    df.loc[df['Id'] == 786, 'Name'] = \"Tapu_Lele\"\n",
    "    df.loc[df['Id'] == 787, 'Name'] = \"Tapu_Bulu\"\n",
    "    df.loc[df['Id'] == 788, 'Name'] = \"Tapu_Fini\"\n",
    "    \n",
    "    return df"
   ]
  },
  {
   "cell_type": "code",
   "execution_count": 500,
   "id": "bd1411a7",
   "metadata": {},
   "outputs": [],
   "source": [
    "missing_pokes = nameChange(missing_pokes)"
   ]
  },
  {
   "cell_type": "code",
   "execution_count": 504,
   "id": "04e32713",
   "metadata": {},
   "outputs": [
    {
     "data": {
      "text/html": [
       "<div>\n",
       "<style scoped>\n",
       "    .dataframe tbody tr th:only-of-type {\n",
       "        vertical-align: middle;\n",
       "    }\n",
       "\n",
       "    .dataframe tbody tr th {\n",
       "        vertical-align: top;\n",
       "    }\n",
       "\n",
       "    .dataframe thead th {\n",
       "        text-align: right;\n",
       "    }\n",
       "</style>\n",
       "<table border=\"1\" class=\"dataframe\">\n",
       "  <thead>\n",
       "    <tr style=\"text-align: right;\">\n",
       "      <th></th>\n",
       "      <th>Height</th>\n",
       "      <th>Id</th>\n",
       "      <th>Name</th>\n",
       "      <th>Weight</th>\n",
       "      <th>Hp</th>\n",
       "      <th>Attack</th>\n",
       "      <th>Defense</th>\n",
       "      <th>Sp. Atk</th>\n",
       "      <th>Sp. Def</th>\n",
       "      <th>Speed</th>\n",
       "      <th>Total</th>\n",
       "      <th>Generation</th>\n",
       "      <th>Legendary</th>\n",
       "    </tr>\n",
       "  </thead>\n",
       "  <tbody>\n",
       "    <tr>\n",
       "      <th>0</th>\n",
       "      <td>0.3</td>\n",
       "      <td>722</td>\n",
       "      <td>Rowlet</td>\n",
       "      <td>1.5</td>\n",
       "      <td>68</td>\n",
       "      <td>55</td>\n",
       "      <td>55</td>\n",
       "      <td>50</td>\n",
       "      <td>50</td>\n",
       "      <td>42</td>\n",
       "      <td>320</td>\n",
       "      <td>7</td>\n",
       "      <td>False</td>\n",
       "    </tr>\n",
       "    <tr>\n",
       "      <th>1</th>\n",
       "      <td>0.7</td>\n",
       "      <td>723</td>\n",
       "      <td>Dartrix</td>\n",
       "      <td>16.0</td>\n",
       "      <td>78</td>\n",
       "      <td>75</td>\n",
       "      <td>75</td>\n",
       "      <td>70</td>\n",
       "      <td>70</td>\n",
       "      <td>52</td>\n",
       "      <td>420</td>\n",
       "      <td>7</td>\n",
       "      <td>False</td>\n",
       "    </tr>\n",
       "    <tr>\n",
       "      <th>2</th>\n",
       "      <td>1.6</td>\n",
       "      <td>724</td>\n",
       "      <td>Decidueye</td>\n",
       "      <td>36.6</td>\n",
       "      <td>78</td>\n",
       "      <td>107</td>\n",
       "      <td>75</td>\n",
       "      <td>100</td>\n",
       "      <td>100</td>\n",
       "      <td>70</td>\n",
       "      <td>530</td>\n",
       "      <td>7</td>\n",
       "      <td>False</td>\n",
       "    </tr>\n",
       "    <tr>\n",
       "      <th>3</th>\n",
       "      <td>0.4</td>\n",
       "      <td>725</td>\n",
       "      <td>Litten</td>\n",
       "      <td>4.3</td>\n",
       "      <td>45</td>\n",
       "      <td>65</td>\n",
       "      <td>40</td>\n",
       "      <td>60</td>\n",
       "      <td>40</td>\n",
       "      <td>70</td>\n",
       "      <td>320</td>\n",
       "      <td>7</td>\n",
       "      <td>False</td>\n",
       "    </tr>\n",
       "    <tr>\n",
       "      <th>4</th>\n",
       "      <td>0.7</td>\n",
       "      <td>726</td>\n",
       "      <td>Torracat</td>\n",
       "      <td>25.0</td>\n",
       "      <td>65</td>\n",
       "      <td>85</td>\n",
       "      <td>50</td>\n",
       "      <td>80</td>\n",
       "      <td>50</td>\n",
       "      <td>90</td>\n",
       "      <td>420</td>\n",
       "      <td>7</td>\n",
       "      <td>False</td>\n",
       "    </tr>\n",
       "    <tr>\n",
       "      <th>...</th>\n",
       "      <td>...</td>\n",
       "      <td>...</td>\n",
       "      <td>...</td>\n",
       "      <td>...</td>\n",
       "      <td>...</td>\n",
       "      <td>...</td>\n",
       "      <td>...</td>\n",
       "      <td>...</td>\n",
       "      <td>...</td>\n",
       "      <td>...</td>\n",
       "      <td>...</td>\n",
       "      <td>...</td>\n",
       "      <td>...</td>\n",
       "    </tr>\n",
       "    <tr>\n",
       "      <th>179</th>\n",
       "      <td>2.4</td>\n",
       "      <td>901</td>\n",
       "      <td>Ursaluna</td>\n",
       "      <td>290.0</td>\n",
       "      <td>130</td>\n",
       "      <td>140</td>\n",
       "      <td>105</td>\n",
       "      <td>45</td>\n",
       "      <td>80</td>\n",
       "      <td>50</td>\n",
       "      <td>550</td>\n",
       "      <td>8</td>\n",
       "      <td>False</td>\n",
       "    </tr>\n",
       "    <tr>\n",
       "      <th>180</th>\n",
       "      <td>3.0</td>\n",
       "      <td>902</td>\n",
       "      <td>Basculegion</td>\n",
       "      <td>110.0</td>\n",
       "      <td>120</td>\n",
       "      <td>112</td>\n",
       "      <td>65</td>\n",
       "      <td>80</td>\n",
       "      <td>75</td>\n",
       "      <td>78</td>\n",
       "      <td>530</td>\n",
       "      <td>8</td>\n",
       "      <td>False</td>\n",
       "    </tr>\n",
       "    <tr>\n",
       "      <th>181</th>\n",
       "      <td>1.3</td>\n",
       "      <td>903</td>\n",
       "      <td>Sneasler</td>\n",
       "      <td>43.0</td>\n",
       "      <td>80</td>\n",
       "      <td>130</td>\n",
       "      <td>60</td>\n",
       "      <td>40</td>\n",
       "      <td>80</td>\n",
       "      <td>120</td>\n",
       "      <td>510</td>\n",
       "      <td>8</td>\n",
       "      <td>False</td>\n",
       "    </tr>\n",
       "    <tr>\n",
       "      <th>182</th>\n",
       "      <td>2.5</td>\n",
       "      <td>904</td>\n",
       "      <td>Overqwil</td>\n",
       "      <td>60.5</td>\n",
       "      <td>85</td>\n",
       "      <td>115</td>\n",
       "      <td>95</td>\n",
       "      <td>65</td>\n",
       "      <td>65</td>\n",
       "      <td>85</td>\n",
       "      <td>510</td>\n",
       "      <td>8</td>\n",
       "      <td>False</td>\n",
       "    </tr>\n",
       "    <tr>\n",
       "      <th>183</th>\n",
       "      <td>1.6</td>\n",
       "      <td>905</td>\n",
       "      <td>Enamorus</td>\n",
       "      <td>48.0</td>\n",
       "      <td>74</td>\n",
       "      <td>115</td>\n",
       "      <td>70</td>\n",
       "      <td>135</td>\n",
       "      <td>80</td>\n",
       "      <td>106</td>\n",
       "      <td>580</td>\n",
       "      <td>8</td>\n",
       "      <td>True</td>\n",
       "    </tr>\n",
       "  </tbody>\n",
       "</table>\n",
       "<p>184 rows × 13 columns</p>\n",
       "</div>"
      ],
      "text/plain": [
       "     Height   Id         Name  Weight   Hp  Attack  Defense  Sp. Atk  Sp. Def  \\\n",
       "0       0.3  722       Rowlet     1.5   68      55       55       50       50   \n",
       "1       0.7  723      Dartrix    16.0   78      75       75       70       70   \n",
       "2       1.6  724    Decidueye    36.6   78     107       75      100      100   \n",
       "3       0.4  725       Litten     4.3   45      65       40       60       40   \n",
       "4       0.7  726     Torracat    25.0   65      85       50       80       50   \n",
       "..      ...  ...          ...     ...  ...     ...      ...      ...      ...   \n",
       "179     2.4  901     Ursaluna   290.0  130     140      105       45       80   \n",
       "180     3.0  902  Basculegion   110.0  120     112       65       80       75   \n",
       "181     1.3  903     Sneasler    43.0   80     130       60       40       80   \n",
       "182     2.5  904     Overqwil    60.5   85     115       95       65       65   \n",
       "183     1.6  905     Enamorus    48.0   74     115       70      135       80   \n",
       "\n",
       "     Speed  Total  Generation  Legendary  \n",
       "0       42    320           7      False  \n",
       "1       52    420           7      False  \n",
       "2       70    530           7      False  \n",
       "3       70    320           7      False  \n",
       "4       90    420           7      False  \n",
       "..     ...    ...         ...        ...  \n",
       "179     50    550           8      False  \n",
       "180     78    530           8      False  \n",
       "181    120    510           8      False  \n",
       "182     85    510           8      False  \n",
       "183    106    580           8       True  \n",
       "\n",
       "[184 rows x 13 columns]"
      ]
     },
     "execution_count": 504,
     "metadata": {},
     "output_type": "execute_result"
    }
   ],
   "source": [
    "# Way cleaner dataset\n",
    "missing_pokes"
   ]
  },
  {
   "cell_type": "markdown",
   "id": "e0df14ab",
   "metadata": {},
   "source": [
    "## Adding Types using Web Scraping"
   ]
  },
  {
   "cell_type": "code",
   "execution_count": 507,
   "id": "08c7f32f",
   "metadata": {},
   "outputs": [
    {
     "data": {
      "text/plain": [
       "<Response [200]>"
      ]
     },
     "execution_count": 507,
     "metadata": {},
     "output_type": "execute_result"
    }
   ],
   "source": [
    "pokemon_url = \"https://www.wikidex.net/wiki/Bulbasaur\"\n",
    "# To get the info of all of them will need to iterate on the url f\"{Pokémon}\"\n",
    "response = requests.get(pokemon_url)\n",
    "response"
   ]
  },
  {
   "cell_type": "code",
   "execution_count": 568,
   "id": "8f379f41",
   "metadata": {},
   "outputs": [
    {
     "data": {
      "text/plain": [
       "'planta/veneno'"
      ]
     },
     "execution_count": 568,
     "metadata": {},
     "output_type": "execute_result"
    }
   ],
   "source": [
    "html = response.content\n",
    "soup = BeautifulSoup(html, \"html.parser\")\n",
    "types = soup.find(\"p\")\n",
    "types.getText().split(\"tipo \")[1].split(\" \")[0]"
   ]
  },
  {
   "cell_type": "code",
   "execution_count": 570,
   "id": "a1604504",
   "metadata": {},
   "outputs": [],
   "source": [
    "def getType(list_of_pokes):\n",
    "    '''This functions appends the Type of each pokemon to a list.\n",
    "    If the pokemon is not found in the wiki, it appends \"NaN\" instead.\n",
    "    '''\n",
    "    types_list = []\n",
    "    \n",
    "    for i in range(len(list_of_pokes)):\n",
    "        pokemon_url = f\"https://www.wikidex.net/wiki/{list_of_pokes[i]}\"\n",
    "        response = requests.get(pokemon_url)\n",
    "        html = response.content\n",
    "        soup = BeautifulSoup(html, \"html.parser\")\n",
    "        types = soup.find(\"p\")\n",
    "        try:\n",
    "            types_list.append(types.getText().split(\"tipo \")[1].split(\" \")[0])\n",
    "        except IndexError:\n",
    "            types_list.append('NaN')\n",
    "        \n",
    "    return types_list"
   ]
  },
  {
   "cell_type": "code",
   "execution_count": 580,
   "id": "ace08dd5",
   "metadata": {},
   "outputs": [],
   "source": [
    "poke_list = missing_pokes['Name'].to_list()\n",
    "# poke_list"
   ]
  },
  {
   "cell_type": "code",
   "execution_count": 581,
   "id": "daa63932",
   "metadata": {},
   "outputs": [],
   "source": [
    "all_tipos = getType(poke_list)"
   ]
  },
  {
   "cell_type": "code",
   "execution_count": 583,
   "id": "55d08f5a",
   "metadata": {},
   "outputs": [
    {
     "data": {
      "text/html": [
       "<div>\n",
       "<style scoped>\n",
       "    .dataframe tbody tr th:only-of-type {\n",
       "        vertical-align: middle;\n",
       "    }\n",
       "\n",
       "    .dataframe tbody tr th {\n",
       "        vertical-align: top;\n",
       "    }\n",
       "\n",
       "    .dataframe thead th {\n",
       "        text-align: right;\n",
       "    }\n",
       "</style>\n",
       "<table border=\"1\" class=\"dataframe\">\n",
       "  <thead>\n",
       "    <tr style=\"text-align: right;\">\n",
       "      <th></th>\n",
       "      <th>Height</th>\n",
       "      <th>Id</th>\n",
       "      <th>Name</th>\n",
       "      <th>Weight</th>\n",
       "      <th>Hp</th>\n",
       "      <th>Attack</th>\n",
       "      <th>Defense</th>\n",
       "      <th>Sp. Atk</th>\n",
       "      <th>Sp. Def</th>\n",
       "      <th>Speed</th>\n",
       "      <th>Total</th>\n",
       "      <th>Generation</th>\n",
       "      <th>Legendary</th>\n",
       "      <th>Types</th>\n",
       "    </tr>\n",
       "  </thead>\n",
       "  <tbody>\n",
       "    <tr>\n",
       "      <th>0</th>\n",
       "      <td>0.3</td>\n",
       "      <td>722</td>\n",
       "      <td>Rowlet</td>\n",
       "      <td>1.5</td>\n",
       "      <td>68</td>\n",
       "      <td>55</td>\n",
       "      <td>55</td>\n",
       "      <td>50</td>\n",
       "      <td>50</td>\n",
       "      <td>42</td>\n",
       "      <td>320</td>\n",
       "      <td>7</td>\n",
       "      <td>False</td>\n",
       "      <td>planta/volador</td>\n",
       "    </tr>\n",
       "    <tr>\n",
       "      <th>1</th>\n",
       "      <td>0.7</td>\n",
       "      <td>723</td>\n",
       "      <td>Dartrix</td>\n",
       "      <td>16.0</td>\n",
       "      <td>78</td>\n",
       "      <td>75</td>\n",
       "      <td>75</td>\n",
       "      <td>70</td>\n",
       "      <td>70</td>\n",
       "      <td>52</td>\n",
       "      <td>420</td>\n",
       "      <td>7</td>\n",
       "      <td>False</td>\n",
       "      <td>planta/volador</td>\n",
       "    </tr>\n",
       "    <tr>\n",
       "      <th>2</th>\n",
       "      <td>1.6</td>\n",
       "      <td>724</td>\n",
       "      <td>Decidueye</td>\n",
       "      <td>36.6</td>\n",
       "      <td>78</td>\n",
       "      <td>107</td>\n",
       "      <td>75</td>\n",
       "      <td>100</td>\n",
       "      <td>100</td>\n",
       "      <td>70</td>\n",
       "      <td>530</td>\n",
       "      <td>7</td>\n",
       "      <td>False</td>\n",
       "      <td>planta/fantasma</td>\n",
       "    </tr>\n",
       "    <tr>\n",
       "      <th>3</th>\n",
       "      <td>0.4</td>\n",
       "      <td>725</td>\n",
       "      <td>Litten</td>\n",
       "      <td>4.3</td>\n",
       "      <td>45</td>\n",
       "      <td>65</td>\n",
       "      <td>40</td>\n",
       "      <td>60</td>\n",
       "      <td>40</td>\n",
       "      <td>70</td>\n",
       "      <td>320</td>\n",
       "      <td>7</td>\n",
       "      <td>False</td>\n",
       "      <td>fuego</td>\n",
       "    </tr>\n",
       "    <tr>\n",
       "      <th>4</th>\n",
       "      <td>0.7</td>\n",
       "      <td>726</td>\n",
       "      <td>Torracat</td>\n",
       "      <td>25.0</td>\n",
       "      <td>65</td>\n",
       "      <td>85</td>\n",
       "      <td>50</td>\n",
       "      <td>80</td>\n",
       "      <td>50</td>\n",
       "      <td>90</td>\n",
       "      <td>420</td>\n",
       "      <td>7</td>\n",
       "      <td>False</td>\n",
       "      <td>fuego</td>\n",
       "    </tr>\n",
       "    <tr>\n",
       "      <th>...</th>\n",
       "      <td>...</td>\n",
       "      <td>...</td>\n",
       "      <td>...</td>\n",
       "      <td>...</td>\n",
       "      <td>...</td>\n",
       "      <td>...</td>\n",
       "      <td>...</td>\n",
       "      <td>...</td>\n",
       "      <td>...</td>\n",
       "      <td>...</td>\n",
       "      <td>...</td>\n",
       "      <td>...</td>\n",
       "      <td>...</td>\n",
       "      <td>...</td>\n",
       "    </tr>\n",
       "    <tr>\n",
       "      <th>179</th>\n",
       "      <td>2.4</td>\n",
       "      <td>901</td>\n",
       "      <td>Ursaluna</td>\n",
       "      <td>290.0</td>\n",
       "      <td>130</td>\n",
       "      <td>140</td>\n",
       "      <td>105</td>\n",
       "      <td>45</td>\n",
       "      <td>80</td>\n",
       "      <td>50</td>\n",
       "      <td>550</td>\n",
       "      <td>8</td>\n",
       "      <td>False</td>\n",
       "      <td>tierra/normal</td>\n",
       "    </tr>\n",
       "    <tr>\n",
       "      <th>180</th>\n",
       "      <td>3.0</td>\n",
       "      <td>902</td>\n",
       "      <td>Basculegion</td>\n",
       "      <td>110.0</td>\n",
       "      <td>120</td>\n",
       "      <td>112</td>\n",
       "      <td>65</td>\n",
       "      <td>80</td>\n",
       "      <td>75</td>\n",
       "      <td>78</td>\n",
       "      <td>530</td>\n",
       "      <td>8</td>\n",
       "      <td>False</td>\n",
       "      <td>agua/fantasma</td>\n",
       "    </tr>\n",
       "    <tr>\n",
       "      <th>181</th>\n",
       "      <td>1.3</td>\n",
       "      <td>903</td>\n",
       "      <td>Sneasler</td>\n",
       "      <td>43.0</td>\n",
       "      <td>80</td>\n",
       "      <td>130</td>\n",
       "      <td>60</td>\n",
       "      <td>40</td>\n",
       "      <td>80</td>\n",
       "      <td>120</td>\n",
       "      <td>510</td>\n",
       "      <td>8</td>\n",
       "      <td>False</td>\n",
       "      <td>lucha/veneno</td>\n",
       "    </tr>\n",
       "    <tr>\n",
       "      <th>182</th>\n",
       "      <td>2.5</td>\n",
       "      <td>904</td>\n",
       "      <td>Overqwil</td>\n",
       "      <td>60.5</td>\n",
       "      <td>85</td>\n",
       "      <td>115</td>\n",
       "      <td>95</td>\n",
       "      <td>65</td>\n",
       "      <td>65</td>\n",
       "      <td>85</td>\n",
       "      <td>510</td>\n",
       "      <td>8</td>\n",
       "      <td>False</td>\n",
       "      <td>siniestro/veneno</td>\n",
       "    </tr>\n",
       "    <tr>\n",
       "      <th>183</th>\n",
       "      <td>1.6</td>\n",
       "      <td>905</td>\n",
       "      <td>Enamorus</td>\n",
       "      <td>48.0</td>\n",
       "      <td>74</td>\n",
       "      <td>115</td>\n",
       "      <td>70</td>\n",
       "      <td>135</td>\n",
       "      <td>80</td>\n",
       "      <td>106</td>\n",
       "      <td>580</td>\n",
       "      <td>8</td>\n",
       "      <td>True</td>\n",
       "      <td>hada/volador</td>\n",
       "    </tr>\n",
       "  </tbody>\n",
       "</table>\n",
       "<p>184 rows × 14 columns</p>\n",
       "</div>"
      ],
      "text/plain": [
       "     Height   Id         Name  Weight   Hp  Attack  Defense  Sp. Atk  Sp. Def  \\\n",
       "0       0.3  722       Rowlet     1.5   68      55       55       50       50   \n",
       "1       0.7  723      Dartrix    16.0   78      75       75       70       70   \n",
       "2       1.6  724    Decidueye    36.6   78     107       75      100      100   \n",
       "3       0.4  725       Litten     4.3   45      65       40       60       40   \n",
       "4       0.7  726     Torracat    25.0   65      85       50       80       50   \n",
       "..      ...  ...          ...     ...  ...     ...      ...      ...      ...   \n",
       "179     2.4  901     Ursaluna   290.0  130     140      105       45       80   \n",
       "180     3.0  902  Basculegion   110.0  120     112       65       80       75   \n",
       "181     1.3  903     Sneasler    43.0   80     130       60       40       80   \n",
       "182     2.5  904     Overqwil    60.5   85     115       95       65       65   \n",
       "183     1.6  905     Enamorus    48.0   74     115       70      135       80   \n",
       "\n",
       "     Speed  Total  Generation  Legendary             Types  \n",
       "0       42    320           7      False    planta/volador  \n",
       "1       52    420           7      False    planta/volador  \n",
       "2       70    530           7      False   planta/fantasma  \n",
       "3       70    320           7      False             fuego  \n",
       "4       90    420           7      False             fuego  \n",
       "..     ...    ...         ...        ...               ...  \n",
       "179     50    550           8      False     tierra/normal  \n",
       "180     78    530           8      False     agua/fantasma  \n",
       "181    120    510           8      False      lucha/veneno  \n",
       "182     85    510           8      False  siniestro/veneno  \n",
       "183    106    580           8       True      hada/volador  \n",
       "\n",
       "[184 rows x 14 columns]"
      ]
     },
     "execution_count": 583,
     "metadata": {},
     "output_type": "execute_result"
    }
   ],
   "source": [
    "# Adding new column Types (in spanish) to the dataset\n",
    "missing_pokes['Types'] = all_tipos\n",
    "missing_pokes"
   ]
  },
  {
   "cell_type": "code",
   "execution_count": 619,
   "id": "7b862814",
   "metadata": {},
   "outputs": [],
   "source": [
    "def cleanTypes(df):\n",
    "    '''This function receives a dataframe, splits the column Type and translates the content, from ES to EN.\n",
    "    '''\n",
    "    df[[\"Type 1\", \"Type 2\"]] = df[\"Types\"].str.split(\"/\", 1, expand = True)\n",
    "    df = df.drop(labels=\"Types\", axis=1)\n",
    "    \n",
    "    translate = {\"normal\" : \"Normal\",\n",
    "                 \"fuego\" : \"Fire\",\n",
    "                 \"agua\" : \"Water\",\n",
    "                 \"planta\" : \"Grass\",\n",
    "                 \"volador\" : \"Flying\",\n",
    "                 \"tierra\" : \"Ground\",\n",
    "                 \"roca\" : \"Rock\",\n",
    "                 \"eléctrico\" : \"Electric\",\n",
    "                 \"bicho\" : \"Bug\",\n",
    "                 \"lucha\" : \"Fighting\",\n",
    "                 \"psíquico\" : \"Psychic\",\n",
    "                 \"veneno\" : \"Poison\",\n",
    "                 \"fantasma\" : \"Ghost\",\n",
    "                 \"hielo\" : \"Ice\",\n",
    "                 \"dragón\" : \"Dragon\",\n",
    "                 \"acero\" : \"Steel\",\n",
    "                 \"siniestro\" : \"Dark\",\n",
    "                 \"hada\" : \"Fairy\"}\n",
    "        \n",
    "    df['Type 1'] = df['Type 1'].replace(translate)\n",
    "    df['Type 2'] = df['Type 2'].replace(translate)\n",
    "    \n",
    "    return df"
   ]
  },
  {
   "cell_type": "code",
   "execution_count": 620,
   "id": "62e7f011",
   "metadata": {},
   "outputs": [],
   "source": [
    "missing_pokes = cleanTypes(missing_pokes)"
   ]
  },
  {
   "cell_type": "code",
   "execution_count": 640,
   "id": "9d36fdba",
   "metadata": {},
   "outputs": [
    {
     "data": {
      "text/html": [
       "<div>\n",
       "<style scoped>\n",
       "    .dataframe tbody tr th:only-of-type {\n",
       "        vertical-align: middle;\n",
       "    }\n",
       "\n",
       "    .dataframe tbody tr th {\n",
       "        vertical-align: top;\n",
       "    }\n",
       "\n",
       "    .dataframe thead th {\n",
       "        text-align: right;\n",
       "    }\n",
       "</style>\n",
       "<table border=\"1\" class=\"dataframe\">\n",
       "  <thead>\n",
       "    <tr style=\"text-align: right;\">\n",
       "      <th></th>\n",
       "      <th>Height</th>\n",
       "      <th>Id</th>\n",
       "      <th>Name</th>\n",
       "      <th>Weight</th>\n",
       "      <th>Hp</th>\n",
       "      <th>Attack</th>\n",
       "      <th>Defense</th>\n",
       "      <th>Sp. Atk</th>\n",
       "      <th>Sp. Def</th>\n",
       "      <th>Speed</th>\n",
       "      <th>Total</th>\n",
       "      <th>Generation</th>\n",
       "      <th>Legendary</th>\n",
       "      <th>Type 1</th>\n",
       "      <th>Type 2</th>\n",
       "    </tr>\n",
       "  </thead>\n",
       "  <tbody>\n",
       "    <tr>\n",
       "      <th>38</th>\n",
       "      <td>2.1</td>\n",
       "      <td>760</td>\n",
       "      <td>Bewear</td>\n",
       "      <td>135.0</td>\n",
       "      <td>120</td>\n",
       "      <td>125</td>\n",
       "      <td>80</td>\n",
       "      <td>55</td>\n",
       "      <td>60</td>\n",
       "      <td>60</td>\n",
       "      <td>500</td>\n",
       "      <td>7</td>\n",
       "      <td>False</td>\n",
       "      <td>Normal</td>\n",
       "      <td>Fighting</td>\n",
       "    </tr>\n",
       "  </tbody>\n",
       "</table>\n",
       "</div>"
      ],
      "text/plain": [
       "    Height   Id    Name  Weight   Hp  Attack  Defense  Sp. Atk  Sp. Def  \\\n",
       "38     2.1  760  Bewear   135.0  120     125       80       55       60   \n",
       "\n",
       "    Speed  Total  Generation  Legendary  Type 1    Type 2  \n",
       "38     60    500           7      False  Normal  Fighting  "
      ]
     },
     "execution_count": 640,
     "metadata": {},
     "output_type": "execute_result"
    }
   ],
   "source": [
    "missing_pokes.sample()"
   ]
  },
  {
   "cell_type": "markdown",
   "id": "bdfc62e9",
   "metadata": {},
   "source": [
    "## Re-organizing columns of missing poke-dataset"
   ]
  },
  {
   "cell_type": "code",
   "execution_count": 633,
   "id": "3436c5f0",
   "metadata": {},
   "outputs": [],
   "source": [
    "def organizeMissing(df):\n",
    "    '''This function re-organizes the columns to match the original pokemon dataset from kaggle.\n",
    "    '''\n",
    "    df = df.set_index(\"#\", drop = True)\n",
    "    df = df.reindex(columns = [\"Name\", \"Type 1\", \"Type 2\", \"Total\", \"Hp\", \"Attack\", \"Defense\", \"Sp. Atk\", \"Sp. Def\", \"Speed\", \"Generation\", \"Legendary\"])\n",
    "    return df"
   ]
  },
  {
   "cell_type": "code",
   "execution_count": 638,
   "id": "d838cfae",
   "metadata": {},
   "outputs": [],
   "source": [
    "missing_pokes_clean = organizeMissing(missing_pokes)"
   ]
  },
  {
   "cell_type": "code",
   "execution_count": 645,
   "id": "c4aa7a23",
   "metadata": {},
   "outputs": [
    {
     "data": {
      "text/html": [
       "<div>\n",
       "<style scoped>\n",
       "    .dataframe tbody tr th:only-of-type {\n",
       "        vertical-align: middle;\n",
       "    }\n",
       "\n",
       "    .dataframe tbody tr th {\n",
       "        vertical-align: top;\n",
       "    }\n",
       "\n",
       "    .dataframe thead th {\n",
       "        text-align: right;\n",
       "    }\n",
       "</style>\n",
       "<table border=\"1\" class=\"dataframe\">\n",
       "  <thead>\n",
       "    <tr style=\"text-align: right;\">\n",
       "      <th></th>\n",
       "      <th>Name</th>\n",
       "      <th>Type 1</th>\n",
       "      <th>Type 2</th>\n",
       "      <th>Total</th>\n",
       "      <th>Hp</th>\n",
       "      <th>Attack</th>\n",
       "      <th>Defense</th>\n",
       "      <th>Sp. Atk</th>\n",
       "      <th>Sp. Def</th>\n",
       "      <th>Speed</th>\n",
       "      <th>Generation</th>\n",
       "      <th>Legendary</th>\n",
       "    </tr>\n",
       "    <tr>\n",
       "      <th>Id</th>\n",
       "      <th></th>\n",
       "      <th></th>\n",
       "      <th></th>\n",
       "      <th></th>\n",
       "      <th></th>\n",
       "      <th></th>\n",
       "      <th></th>\n",
       "      <th></th>\n",
       "      <th></th>\n",
       "      <th></th>\n",
       "      <th></th>\n",
       "      <th></th>\n",
       "    </tr>\n",
       "  </thead>\n",
       "  <tbody>\n",
       "    <tr>\n",
       "      <th>805</th>\n",
       "      <td>Stakataka</td>\n",
       "      <td>Rock</td>\n",
       "      <td>Steel</td>\n",
       "      <td>570</td>\n",
       "      <td>61</td>\n",
       "      <td>131</td>\n",
       "      <td>211</td>\n",
       "      <td>53</td>\n",
       "      <td>101</td>\n",
       "      <td>13</td>\n",
       "      <td>7</td>\n",
       "      <td>False</td>\n",
       "    </tr>\n",
       "  </tbody>\n",
       "</table>\n",
       "</div>"
      ],
      "text/plain": [
       "          Name Type 1 Type 2  Total  Hp  Attack  Defense  Sp. Atk  Sp. Def  \\\n",
       "Id                                                                           \n",
       "805  Stakataka   Rock  Steel    570  61     131      211       53      101   \n",
       "\n",
       "     Speed  Generation  Legendary  \n",
       "Id                                 \n",
       "805     13           7      False  "
      ]
     },
     "execution_count": 645,
     "metadata": {},
     "output_type": "execute_result"
    }
   ],
   "source": [
    "missing_pokes_clean.sample()"
   ]
  },
  {
   "cell_type": "code",
   "execution_count": 646,
   "id": "367c28fa",
   "metadata": {},
   "outputs": [],
   "source": [
    "# Exporting dataset before re-organize\n",
    "missing_pokes.to_csv('./data/pokemon_missing_new.csv', index = False)"
   ]
  },
  {
   "cell_type": "code",
   "execution_count": 641,
   "id": "c89df908",
   "metadata": {},
   "outputs": [],
   "source": [
    "# Exporting dataset clean\n",
    "missing_pokes_clean.to_csv('./data/pokemon_missing_clean.csv', index = False)"
   ]
  },
  {
   "cell_type": "markdown",
   "id": "a385e367",
   "metadata": {},
   "source": [
    "# Enriching the ORIGINAL kaggle dataset using Web Scraping"
   ]
  },
  {
   "cell_type": "code",
   "execution_count": 271,
   "id": "533c3920",
   "metadata": {},
   "outputs": [],
   "source": [
    "# Importing\n",
    "pokemon = pd.read_csv(\"./data/pokemon.csv\")\n",
    "pokemon = pokemon.set_index('#')\n",
    "# pokemon.head()"
   ]
  },
  {
   "cell_type": "markdown",
   "id": "84e0d176",
   "metadata": {},
   "source": [
    "## Weight"
   ]
  },
  {
   "cell_type": "markdown",
   "id": "1f6d0191",
   "metadata": {},
   "source": [
    "### Trying one request"
   ]
  },
  {
   "cell_type": "code",
   "execution_count": 4,
   "id": "bdf259fe",
   "metadata": {},
   "outputs": [],
   "source": [
    "# Wikidex\n",
    "pokemon_url = \"https://www.wikidex.net/wiki/Bulbasaur\"\n",
    "# To get the info of all of them will need to iterate on the url f\"{Pokémon}\""
   ]
  },
  {
   "cell_type": "code",
   "execution_count": 5,
   "id": "c7eae0d7",
   "metadata": {},
   "outputs": [
    {
     "data": {
      "text/plain": [
       "<Response [200]>"
      ]
     },
     "execution_count": 5,
     "metadata": {},
     "output_type": "execute_result"
    }
   ],
   "source": [
    "response = requests.get(pokemon_url)\n",
    "response"
   ]
  },
  {
   "cell_type": "code",
   "execution_count": 6,
   "id": "8659a340",
   "metadata": {},
   "outputs": [],
   "source": [
    "html = response.content\n",
    "# html"
   ]
  },
  {
   "cell_type": "code",
   "execution_count": 7,
   "id": "5b96e781",
   "metadata": {},
   "outputs": [],
   "source": [
    "soup = BeautifulSoup(html, \"html.parser\")\n",
    "# soup"
   ]
  },
  {
   "cell_type": "code",
   "execution_count": 8,
   "id": "c5f48c38",
   "metadata": {},
   "outputs": [
    {
     "data": {
      "text/plain": [
       "[<tr title=\"Peso del Pokémon\">\n",
       " <th><a href=\"/wiki/Lista_de_Pok%C3%A9mon_por_peso\" title=\"Lista de Pokémon por peso\">Peso</a>\n",
       " </th>\n",
       " <td>6,9 kg\n",
       " </td></tr>]"
      ]
     },
     "execution_count": 8,
     "metadata": {},
     "output_type": "execute_result"
    }
   ],
   "source": [
    "weight = soup.find_all(\"tr\", attrs = {\"title\" : \"Peso del Pokémon\"})\n",
    "weight"
   ]
  },
  {
   "cell_type": "code",
   "execution_count": 9,
   "id": "4e989294",
   "metadata": {},
   "outputs": [
    {
     "data": {
      "text/plain": [
       "6.9"
      ]
     },
     "execution_count": 9,
     "metadata": {},
     "output_type": "execute_result"
    }
   ],
   "source": [
    "# Weight in kg of bulbasur\n",
    "float(weight[0].getText().strip().split('\\n')[-1].split(\" \")[0].replace(\",\",\".\"))"
   ]
  },
  {
   "cell_type": "markdown",
   "id": "9be99d9d",
   "metadata": {},
   "source": [
    "### Looping for many requests"
   ]
  },
  {
   "cell_type": "code",
   "execution_count": 35,
   "id": "ea3e16e6",
   "metadata": {},
   "outputs": [],
   "source": [
    "def getWeight(list_of_pokes):\n",
    "    '''This functions appends the weight of each pokemon to a list.\n",
    "    If the pokemon is not found in the wiki, it appends \"NaN\" instead.\n",
    "    '''\n",
    "    weight_list = []\n",
    "    \n",
    "    for i in range(len(list_of_pokes)):\n",
    "        pokemon_url = f\"https://www.wikidex.net/wiki/{list_of_pokes[i]}\"\n",
    "        response = requests.get(pokemon_url)\n",
    "        html = response.content\n",
    "        soup = BeautifulSoup(html, \"html.parser\")\n",
    "        weight = soup.find_all(\"tr\", attrs = {\"title\" : \"Peso del Pokémon\"})\n",
    "        \n",
    "        try:\n",
    "            weight_float = float(weight[0].getText().strip().split('\\n')[-1].split(\" \")[0].replace(\",\",\".\"))\n",
    "            weight_list.append(weight_float)\n",
    "        except IndexError:\n",
    "            weight_list.append('NaN')\n",
    "        \n",
    "    return weight_list"
   ]
  },
  {
   "cell_type": "code",
   "execution_count": 280,
   "id": "a39e9462",
   "metadata": {},
   "outputs": [],
   "source": [
    "all_pokemon_list = pokemon['Name'].to_list()"
   ]
  },
  {
   "cell_type": "code",
   "execution_count": 49,
   "id": "7f7d0761",
   "metadata": {},
   "outputs": [],
   "source": [
    "# all_weights = getWeight(all_pokemon_list)\n",
    "# print(all_weights)"
   ]
  },
  {
   "cell_type": "code",
   "execution_count": 43,
   "id": "3fea2cfa",
   "metadata": {},
   "outputs": [],
   "source": [
    "# Adding new column Weight to the pokedex\n",
    "pokemon['Weight (kg)'] = all_weights"
   ]
  },
  {
   "cell_type": "code",
   "execution_count": 48,
   "id": "99a29396",
   "metadata": {},
   "outputs": [],
   "source": [
    "# Exporting dataset with added weight\n",
    "pokemon.to_csv('./data/pokemon_weight.csv', index = False)"
   ]
  },
  {
   "cell_type": "code",
   "execution_count": 79,
   "id": "10c1abf4",
   "metadata": {},
   "outputs": [],
   "source": [
    "# pokemon_nan_weight = pokemon[pokemon['Weight (kg)'] == 'NaN']['Name'].to_list()\n",
    "# pokemon_nan_weight\n",
    "# Megaevolution and special forms: weight not added properly"
   ]
  },
  {
   "cell_type": "markdown",
   "id": "af41129f",
   "metadata": {},
   "source": [
    "## Height"
   ]
  },
  {
   "cell_type": "code",
   "execution_count": 272,
   "id": "2b7d7c15",
   "metadata": {},
   "outputs": [
    {
     "data": {
      "text/html": [
       "<div>\n",
       "<style scoped>\n",
       "    .dataframe tbody tr th:only-of-type {\n",
       "        vertical-align: middle;\n",
       "    }\n",
       "\n",
       "    .dataframe tbody tr th {\n",
       "        vertical-align: top;\n",
       "    }\n",
       "\n",
       "    .dataframe thead th {\n",
       "        text-align: right;\n",
       "    }\n",
       "</style>\n",
       "<table border=\"1\" class=\"dataframe\">\n",
       "  <thead>\n",
       "    <tr style=\"text-align: right;\">\n",
       "      <th></th>\n",
       "      <th>Name</th>\n",
       "      <th>Type 1</th>\n",
       "      <th>Type 2</th>\n",
       "      <th>Total</th>\n",
       "      <th>HP</th>\n",
       "      <th>Attack</th>\n",
       "      <th>Defense</th>\n",
       "      <th>Sp. Atk</th>\n",
       "      <th>Sp. Def</th>\n",
       "      <th>Speed</th>\n",
       "      <th>Generation</th>\n",
       "      <th>Legendary</th>\n",
       "      <th>Weight (kg)</th>\n",
       "    </tr>\n",
       "  </thead>\n",
       "  <tbody>\n",
       "    <tr>\n",
       "      <th>0</th>\n",
       "      <td>Bulbasaur</td>\n",
       "      <td>Grass</td>\n",
       "      <td>Poison</td>\n",
       "      <td>318</td>\n",
       "      <td>45</td>\n",
       "      <td>49</td>\n",
       "      <td>49</td>\n",
       "      <td>65</td>\n",
       "      <td>65</td>\n",
       "      <td>45</td>\n",
       "      <td>1</td>\n",
       "      <td>False</td>\n",
       "      <td>6.9</td>\n",
       "    </tr>\n",
       "    <tr>\n",
       "      <th>1</th>\n",
       "      <td>Ivysaur</td>\n",
       "      <td>Grass</td>\n",
       "      <td>Poison</td>\n",
       "      <td>405</td>\n",
       "      <td>60</td>\n",
       "      <td>62</td>\n",
       "      <td>63</td>\n",
       "      <td>80</td>\n",
       "      <td>80</td>\n",
       "      <td>60</td>\n",
       "      <td>1</td>\n",
       "      <td>False</td>\n",
       "      <td>13.0</td>\n",
       "    </tr>\n",
       "    <tr>\n",
       "      <th>2</th>\n",
       "      <td>Venusaur</td>\n",
       "      <td>Grass</td>\n",
       "      <td>Poison</td>\n",
       "      <td>525</td>\n",
       "      <td>80</td>\n",
       "      <td>82</td>\n",
       "      <td>83</td>\n",
       "      <td>100</td>\n",
       "      <td>100</td>\n",
       "      <td>80</td>\n",
       "      <td>1</td>\n",
       "      <td>False</td>\n",
       "      <td>100.0</td>\n",
       "    </tr>\n",
       "    <tr>\n",
       "      <th>3</th>\n",
       "      <td>VenusaurMega Venusaur</td>\n",
       "      <td>Grass</td>\n",
       "      <td>Poison</td>\n",
       "      <td>625</td>\n",
       "      <td>80</td>\n",
       "      <td>100</td>\n",
       "      <td>123</td>\n",
       "      <td>122</td>\n",
       "      <td>120</td>\n",
       "      <td>80</td>\n",
       "      <td>1</td>\n",
       "      <td>False</td>\n",
       "      <td>NaN</td>\n",
       "    </tr>\n",
       "    <tr>\n",
       "      <th>4</th>\n",
       "      <td>Charmander</td>\n",
       "      <td>Fire</td>\n",
       "      <td>NaN</td>\n",
       "      <td>309</td>\n",
       "      <td>39</td>\n",
       "      <td>52</td>\n",
       "      <td>43</td>\n",
       "      <td>60</td>\n",
       "      <td>50</td>\n",
       "      <td>65</td>\n",
       "      <td>1</td>\n",
       "      <td>False</td>\n",
       "      <td>8.5</td>\n",
       "    </tr>\n",
       "  </tbody>\n",
       "</table>\n",
       "</div>"
      ],
      "text/plain": [
       "                    Name Type 1  Type 2  Total  HP  Attack  Defense  Sp. Atk  \\\n",
       "0              Bulbasaur  Grass  Poison    318  45      49       49       65   \n",
       "1                Ivysaur  Grass  Poison    405  60      62       63       80   \n",
       "2               Venusaur  Grass  Poison    525  80      82       83      100   \n",
       "3  VenusaurMega Venusaur  Grass  Poison    625  80     100      123      122   \n",
       "4             Charmander   Fire     NaN    309  39      52       43       60   \n",
       "\n",
       "   Sp. Def  Speed  Generation  Legendary  Weight (kg)  \n",
       "0       65     45           1      False          6.9  \n",
       "1       80     60           1      False         13.0  \n",
       "2      100     80           1      False        100.0  \n",
       "3      120     80           1      False          NaN  \n",
       "4       50     65           1      False          8.5  "
      ]
     },
     "execution_count": 272,
     "metadata": {},
     "output_type": "execute_result"
    }
   ],
   "source": [
    "# Importing\n",
    "pokemon = pd.read_csv(\"./data/pokemon_weight.csv\")\n",
    "pokemon.head()"
   ]
  },
  {
   "cell_type": "code",
   "execution_count": 273,
   "id": "e7a51f55",
   "metadata": {},
   "outputs": [],
   "source": [
    "def getHeight(list_of_pokes):\n",
    "    '''This functions appends the height of each pokemon to a list.\n",
    "    If the pokemon is not found in the wiki, it appends \"NaN\" instead.\n",
    "    '''\n",
    "    height_list = []\n",
    "    \n",
    "    for i in range(len(list_of_pokes)):\n",
    "        pokemon_url = f\"https://www.wikidex.net/wiki/{list_of_pokes[i]}\"\n",
    "        response = requests.get(pokemon_url)\n",
    "        html = response.content\n",
    "        soup = BeautifulSoup(html, \"html.parser\")\n",
    "        height = soup.find_all(\"tr\", attrs = {\"title\" : \"Altura del Pokémon\"})\n",
    "        \n",
    "        try:\n",
    "            height_float = float(height[0].getText().strip().split('\\n')[-1].split(\" \")[0].replace(\",\",\".\"))\n",
    "            height_list.append(height_float)\n",
    "        except IndexError:\n",
    "            height_list.append('NaN')\n",
    "        \n",
    "    return height_list"
   ]
  },
  {
   "cell_type": "code",
   "execution_count": 274,
   "id": "78b8b707",
   "metadata": {},
   "outputs": [],
   "source": [
    "all_pokemon_list = pokemon['Name'].to_list()"
   ]
  },
  {
   "cell_type": "code",
   "execution_count": 275,
   "id": "b679eff2",
   "metadata": {},
   "outputs": [],
   "source": [
    "all_heights = getHeight(all_pokemon_list)"
   ]
  },
  {
   "cell_type": "code",
   "execution_count": 276,
   "id": "711f3446",
   "metadata": {},
   "outputs": [
    {
     "data": {
      "text/html": [
       "<div>\n",
       "<style scoped>\n",
       "    .dataframe tbody tr th:only-of-type {\n",
       "        vertical-align: middle;\n",
       "    }\n",
       "\n",
       "    .dataframe tbody tr th {\n",
       "        vertical-align: top;\n",
       "    }\n",
       "\n",
       "    .dataframe thead th {\n",
       "        text-align: right;\n",
       "    }\n",
       "</style>\n",
       "<table border=\"1\" class=\"dataframe\">\n",
       "  <thead>\n",
       "    <tr style=\"text-align: right;\">\n",
       "      <th></th>\n",
       "      <th>Name</th>\n",
       "      <th>Type 1</th>\n",
       "      <th>Type 2</th>\n",
       "      <th>Total</th>\n",
       "      <th>HP</th>\n",
       "      <th>Attack</th>\n",
       "      <th>Defense</th>\n",
       "      <th>Sp. Atk</th>\n",
       "      <th>Sp. Def</th>\n",
       "      <th>Speed</th>\n",
       "      <th>Generation</th>\n",
       "      <th>Legendary</th>\n",
       "      <th>Weight (kg)</th>\n",
       "      <th>Height (m)</th>\n",
       "    </tr>\n",
       "  </thead>\n",
       "  <tbody>\n",
       "    <tr>\n",
       "      <th>0</th>\n",
       "      <td>Bulbasaur</td>\n",
       "      <td>Grass</td>\n",
       "      <td>Poison</td>\n",
       "      <td>318</td>\n",
       "      <td>45</td>\n",
       "      <td>49</td>\n",
       "      <td>49</td>\n",
       "      <td>65</td>\n",
       "      <td>65</td>\n",
       "      <td>45</td>\n",
       "      <td>1</td>\n",
       "      <td>False</td>\n",
       "      <td>6.9</td>\n",
       "      <td>0.7</td>\n",
       "    </tr>\n",
       "    <tr>\n",
       "      <th>1</th>\n",
       "      <td>Ivysaur</td>\n",
       "      <td>Grass</td>\n",
       "      <td>Poison</td>\n",
       "      <td>405</td>\n",
       "      <td>60</td>\n",
       "      <td>62</td>\n",
       "      <td>63</td>\n",
       "      <td>80</td>\n",
       "      <td>80</td>\n",
       "      <td>60</td>\n",
       "      <td>1</td>\n",
       "      <td>False</td>\n",
       "      <td>13.0</td>\n",
       "      <td>1.0</td>\n",
       "    </tr>\n",
       "    <tr>\n",
       "      <th>2</th>\n",
       "      <td>Venusaur</td>\n",
       "      <td>Grass</td>\n",
       "      <td>Poison</td>\n",
       "      <td>525</td>\n",
       "      <td>80</td>\n",
       "      <td>82</td>\n",
       "      <td>83</td>\n",
       "      <td>100</td>\n",
       "      <td>100</td>\n",
       "      <td>80</td>\n",
       "      <td>1</td>\n",
       "      <td>False</td>\n",
       "      <td>100.0</td>\n",
       "      <td>2.0</td>\n",
       "    </tr>\n",
       "    <tr>\n",
       "      <th>3</th>\n",
       "      <td>VenusaurMega Venusaur</td>\n",
       "      <td>Grass</td>\n",
       "      <td>Poison</td>\n",
       "      <td>625</td>\n",
       "      <td>80</td>\n",
       "      <td>100</td>\n",
       "      <td>123</td>\n",
       "      <td>122</td>\n",
       "      <td>120</td>\n",
       "      <td>80</td>\n",
       "      <td>1</td>\n",
       "      <td>False</td>\n",
       "      <td>NaN</td>\n",
       "      <td>NaN</td>\n",
       "    </tr>\n",
       "    <tr>\n",
       "      <th>4</th>\n",
       "      <td>Charmander</td>\n",
       "      <td>Fire</td>\n",
       "      <td>NaN</td>\n",
       "      <td>309</td>\n",
       "      <td>39</td>\n",
       "      <td>52</td>\n",
       "      <td>43</td>\n",
       "      <td>60</td>\n",
       "      <td>50</td>\n",
       "      <td>65</td>\n",
       "      <td>1</td>\n",
       "      <td>False</td>\n",
       "      <td>8.5</td>\n",
       "      <td>0.6</td>\n",
       "    </tr>\n",
       "    <tr>\n",
       "      <th>...</th>\n",
       "      <td>...</td>\n",
       "      <td>...</td>\n",
       "      <td>...</td>\n",
       "      <td>...</td>\n",
       "      <td>...</td>\n",
       "      <td>...</td>\n",
       "      <td>...</td>\n",
       "      <td>...</td>\n",
       "      <td>...</td>\n",
       "      <td>...</td>\n",
       "      <td>...</td>\n",
       "      <td>...</td>\n",
       "      <td>...</td>\n",
       "      <td>...</td>\n",
       "    </tr>\n",
       "    <tr>\n",
       "      <th>795</th>\n",
       "      <td>Diancie</td>\n",
       "      <td>Rock</td>\n",
       "      <td>Fairy</td>\n",
       "      <td>600</td>\n",
       "      <td>50</td>\n",
       "      <td>100</td>\n",
       "      <td>150</td>\n",
       "      <td>100</td>\n",
       "      <td>150</td>\n",
       "      <td>50</td>\n",
       "      <td>6</td>\n",
       "      <td>True</td>\n",
       "      <td>8.8</td>\n",
       "      <td>0.7</td>\n",
       "    </tr>\n",
       "    <tr>\n",
       "      <th>796</th>\n",
       "      <td>DiancieMega Diancie</td>\n",
       "      <td>Rock</td>\n",
       "      <td>Fairy</td>\n",
       "      <td>700</td>\n",
       "      <td>50</td>\n",
       "      <td>160</td>\n",
       "      <td>110</td>\n",
       "      <td>160</td>\n",
       "      <td>110</td>\n",
       "      <td>110</td>\n",
       "      <td>6</td>\n",
       "      <td>True</td>\n",
       "      <td>NaN</td>\n",
       "      <td>NaN</td>\n",
       "    </tr>\n",
       "    <tr>\n",
       "      <th>797</th>\n",
       "      <td>HoopaHoopa Confined</td>\n",
       "      <td>Psychic</td>\n",
       "      <td>Ghost</td>\n",
       "      <td>600</td>\n",
       "      <td>80</td>\n",
       "      <td>110</td>\n",
       "      <td>60</td>\n",
       "      <td>150</td>\n",
       "      <td>130</td>\n",
       "      <td>70</td>\n",
       "      <td>6</td>\n",
       "      <td>True</td>\n",
       "      <td>NaN</td>\n",
       "      <td>NaN</td>\n",
       "    </tr>\n",
       "    <tr>\n",
       "      <th>798</th>\n",
       "      <td>HoopaHoopa Unbound</td>\n",
       "      <td>Psychic</td>\n",
       "      <td>Dark</td>\n",
       "      <td>680</td>\n",
       "      <td>80</td>\n",
       "      <td>160</td>\n",
       "      <td>60</td>\n",
       "      <td>170</td>\n",
       "      <td>130</td>\n",
       "      <td>80</td>\n",
       "      <td>6</td>\n",
       "      <td>True</td>\n",
       "      <td>NaN</td>\n",
       "      <td>NaN</td>\n",
       "    </tr>\n",
       "    <tr>\n",
       "      <th>799</th>\n",
       "      <td>Volcanion</td>\n",
       "      <td>Fire</td>\n",
       "      <td>Water</td>\n",
       "      <td>600</td>\n",
       "      <td>80</td>\n",
       "      <td>110</td>\n",
       "      <td>120</td>\n",
       "      <td>130</td>\n",
       "      <td>90</td>\n",
       "      <td>70</td>\n",
       "      <td>6</td>\n",
       "      <td>True</td>\n",
       "      <td>195.0</td>\n",
       "      <td>1.7</td>\n",
       "    </tr>\n",
       "  </tbody>\n",
       "</table>\n",
       "<p>800 rows × 14 columns</p>\n",
       "</div>"
      ],
      "text/plain": [
       "                      Name   Type 1  Type 2  Total  HP  Attack  Defense  \\\n",
       "0                Bulbasaur    Grass  Poison    318  45      49       49   \n",
       "1                  Ivysaur    Grass  Poison    405  60      62       63   \n",
       "2                 Venusaur    Grass  Poison    525  80      82       83   \n",
       "3    VenusaurMega Venusaur    Grass  Poison    625  80     100      123   \n",
       "4               Charmander     Fire     NaN    309  39      52       43   \n",
       "..                     ...      ...     ...    ...  ..     ...      ...   \n",
       "795                Diancie     Rock   Fairy    600  50     100      150   \n",
       "796    DiancieMega Diancie     Rock   Fairy    700  50     160      110   \n",
       "797    HoopaHoopa Confined  Psychic   Ghost    600  80     110       60   \n",
       "798     HoopaHoopa Unbound  Psychic    Dark    680  80     160       60   \n",
       "799              Volcanion     Fire   Water    600  80     110      120   \n",
       "\n",
       "     Sp. Atk  Sp. Def  Speed  Generation  Legendary  Weight (kg) Height (m)  \n",
       "0         65       65     45           1      False          6.9        0.7  \n",
       "1         80       80     60           1      False         13.0        1.0  \n",
       "2        100      100     80           1      False        100.0        2.0  \n",
       "3        122      120     80           1      False          NaN        NaN  \n",
       "4         60       50     65           1      False          8.5        0.6  \n",
       "..       ...      ...    ...         ...        ...          ...        ...  \n",
       "795      100      150     50           6       True          8.8        0.7  \n",
       "796      160      110    110           6       True          NaN        NaN  \n",
       "797      150      130     70           6       True          NaN        NaN  \n",
       "798      170      130     80           6       True          NaN        NaN  \n",
       "799      130       90     70           6       True        195.0        1.7  \n",
       "\n",
       "[800 rows x 14 columns]"
      ]
     },
     "execution_count": 276,
     "metadata": {},
     "output_type": "execute_result"
    }
   ],
   "source": [
    "# Adding new column Height to the pokedex\n",
    "pokemon['Height (m)'] = all_heights\n",
    "pokemon"
   ]
  },
  {
   "cell_type": "code",
   "execution_count": 277,
   "id": "723e641d",
   "metadata": {},
   "outputs": [],
   "source": [
    "# Exporting dataset with added height\n",
    "pokemon.to_csv('./data/pokemon_weight_height.csv', index = False)"
   ]
  },
  {
   "cell_type": "markdown",
   "id": "6276cf4e",
   "metadata": {},
   "source": [
    "# Bulbapedia ->>> catch rate"
   ]
  },
  {
   "cell_type": "code",
   "execution_count": null,
   "id": "246b7a40",
   "metadata": {},
   "outputs": [],
   "source": [
    "# Using bulbapedia"
   ]
  },
  {
   "cell_type": "code",
   "execution_count": null,
   "id": "3be63745",
   "metadata": {},
   "outputs": [],
   "source": [
    "pokemon_url_bulb = \"https://bulbapedia.bulbagarden.net/wiki/Bulbasaur_(Pok%C3%A9mon)\""
   ]
  },
  {
   "cell_type": "code",
   "execution_count": null,
   "id": "aef06961",
   "metadata": {},
   "outputs": [],
   "source": [
    "# Execute navigator.userAgent in Chrome developer console, withing the page - Ctrl+Shit+J\n",
    "# Add that User-Agent into headers\n",
    "\n",
    "headers = {\"User-Agent\" : \"Mozilla/5.0 (Windows NT 10.0; Win64; x64) AppleWebKit/537.36 (KHTML, like Gecko) Chrome/106.0.0.0 Safari/537.36\"}\n",
    "response_bulb = requests.get(pokemon_url_2, headers = headers)\n",
    "response_bulb"
   ]
  },
  {
   "cell_type": "code",
   "execution_count": null,
   "id": "534ebc50",
   "metadata": {},
   "outputs": [],
   "source": [
    "html_bulb = response_bulb.content\n",
    "soup_bulb = BeautifulSoup(html_bulb, \"html.parser\")\n",
    "catchrate = soup_bulb.find_all(\"tr\", attrs = {\"title\" : \"Peso del Pokémon\"})"
   ]
  }
 ],
 "metadata": {
  "kernelspec": {
   "display_name": "Python 3 (ipykernel)",
   "language": "python",
   "name": "python3"
  },
  "language_info": {
   "codemirror_mode": {
    "name": "ipython",
    "version": 3
   },
   "file_extension": ".py",
   "mimetype": "text/x-python",
   "name": "python",
   "nbconvert_exporter": "python",
   "pygments_lexer": "ipython3",
   "version": "3.9.13"
  },
  "toc": {
   "base_numbering": 1,
   "nav_menu": {},
   "number_sections": true,
   "sideBar": true,
   "skip_h1_title": false,
   "title_cell": "Table of Contents",
   "title_sidebar": "Contents",
   "toc_cell": false,
   "toc_position": {},
   "toc_section_display": true,
   "toc_window_display": false
  }
 },
 "nbformat": 4,
 "nbformat_minor": 5
}
